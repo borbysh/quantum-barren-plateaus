{
  "cells": [
    {
      "cell_type": "markdown",
      "metadata": {
        "id": "view-in-github",
        "colab_type": "text"
      },
      "source": [
        "<a href=\"https://colab.research.google.com/github/borbysh/quantum-barren-plateaus/blob/main/Tutorials/Barren_pennylane.ipynb\" target=\"_parent\"><img src=\"https://colab.research.google.com/assets/colab-badge.svg\" alt=\"Open In Colab\"/></a>"
      ]
    },
    {
      "cell_type": "code",
      "source": [
        "%matplotlib inline\n",
        "!pip install pennylane==0.38"
      ],
      "metadata": {
        "colab": {
          "base_uri": "https://localhost:8080/"
        },
        "id": "GtJecpjHAbDd",
        "outputId": "1df71a54-b2b9-46d4-9f6d-d896d0cea510"
      },
      "execution_count": 1,
      "outputs": [
        {
          "output_type": "stream",
          "name": "stdout",
          "text": [
            "Requirement already satisfied: pennylane==0.38 in /usr/local/lib/python3.11/dist-packages (0.38.0)\n",
            "Requirement already satisfied: numpy<2.0 in /usr/local/lib/python3.11/dist-packages (from pennylane==0.38) (1.26.4)\n",
            "Requirement already satisfied: scipy in /usr/local/lib/python3.11/dist-packages (from pennylane==0.38) (1.16.1)\n",
            "Requirement already satisfied: networkx in /usr/local/lib/python3.11/dist-packages (from pennylane==0.38) (3.5)\n",
            "Requirement already satisfied: rustworkx>=0.14.0 in /usr/local/lib/python3.11/dist-packages (from pennylane==0.38) (0.16.0)\n",
            "Requirement already satisfied: autograd in /usr/local/lib/python3.11/dist-packages (from pennylane==0.38) (1.8.0)\n",
            "Requirement already satisfied: toml in /usr/local/lib/python3.11/dist-packages (from pennylane==0.38) (0.10.2)\n",
            "Requirement already satisfied: appdirs in /usr/local/lib/python3.11/dist-packages (from pennylane==0.38) (1.4.4)\n",
            "Requirement already satisfied: autoray>=0.6.11 in /usr/local/lib/python3.11/dist-packages (from pennylane==0.38) (0.7.2)\n",
            "Requirement already satisfied: cachetools in /usr/local/lib/python3.11/dist-packages (from pennylane==0.38) (5.5.2)\n",
            "Requirement already satisfied: pennylane-lightning>=0.38 in /usr/local/lib/python3.11/dist-packages (from pennylane==0.38) (0.40.0)\n",
            "Requirement already satisfied: requests in /usr/local/lib/python3.11/dist-packages (from pennylane==0.38) (2.32.3)\n",
            "Requirement already satisfied: typing-extensions in /usr/local/lib/python3.11/dist-packages (from pennylane==0.38) (4.14.1)\n",
            "Requirement already satisfied: packaging in /usr/local/lib/python3.11/dist-packages (from pennylane==0.38) (25.0)\n",
            "Requirement already satisfied: scipy-openblas32>=0.3.26 in /usr/local/lib/python3.11/dist-packages (from pennylane-lightning>=0.38->pennylane==0.38) (0.3.30.0.2)\n",
            "Requirement already satisfied: charset-normalizer<4,>=2 in /usr/local/lib/python3.11/dist-packages (from requests->pennylane==0.38) (3.4.2)\n",
            "Requirement already satisfied: idna<4,>=2.5 in /usr/local/lib/python3.11/dist-packages (from requests->pennylane==0.38) (3.10)\n",
            "Requirement already satisfied: urllib3<3,>=1.21.1 in /usr/local/lib/python3.11/dist-packages (from requests->pennylane==0.38) (2.5.0)\n",
            "Requirement already satisfied: certifi>=2017.4.17 in /usr/local/lib/python3.11/dist-packages (from requests->pennylane==0.38) (2025.8.3)\n"
          ]
        }
      ]
    },
    {
      "cell_type": "code",
      "execution_count": 2,
      "metadata": {
        "id": "YTIn6SW0AXoH"
      },
      "outputs": [],
      "source": [
        "import sys\n",
        "sys.path.append('..')\n",
        "import pennylane.numpy as np\n",
        "import matplotlib.pyplot as plt\n",
        "import pennylane as qml"
      ]
    },
    {
      "cell_type": "code",
      "source": [
        "def global2local( Hamiltonian ):\n",
        "\n",
        "    num_wires = len(Hamiltonian.wires)\n",
        "\n",
        "    coeff = []\n",
        "    ops   = []\n",
        "\n",
        "    coeff_local = Hamiltonian.coeffs\n",
        "\n",
        "    for i, hamiltonian in enumerate(Hamiltonian.ops):\n",
        "\n",
        "        if int(hamiltonian.num_wires)== -1 or int(hamiltonian.num_wires)==1:\n",
        "            ops.append( qml.Identity(range(num_wires)) )\n",
        "            coeff.append( coeff_local[i] )\n",
        "\n",
        "        else:\n",
        "            pauli_local = hamiltonian.obs\n",
        "\n",
        "            for pauli in pauli_local:\n",
        "                ops.append( pauli )\n",
        "                coeff.append( coeff_local[i]/num_wires  )\n",
        "\n",
        "            ops.append( qml.Identity(range(num_wires)) )\n",
        "            coeff.append( coeff_local[i]*(num_wires - hamiltonian.num_wires)/num_wires )\n",
        "\n",
        "    return qml.Hamiltonian( np.array(coeff), ops).simplify()\n",
        "\n",
        "def test_hamiltonian( num_wires ):\n",
        "\n",
        "    Paulis = qml.Hamiltonian( [0.5, 0.5], [qml.Identity(0), qml.PauliZ(0) ] )\n",
        "    for i in range(1,num_wires):\n",
        "        zero = qml.Hamiltonian( [0.5, 0.5], [qml.Identity(i), qml.PauliZ(i) ] )\n",
        "        Paulis = Paulis@zero\n",
        "\n",
        "    Hamiltonian = qml.Hamiltonian( list(-Paulis.coeffs)+[1], Paulis.ops+[ qml.Identity(0) ] )\n",
        "\n",
        "    return Hamiltonian.simplify()\n",
        "\n",
        "\n",
        "def test_hamiltonian_2( num_wires, coeff ):\n",
        "\n",
        "    obs = [ qml.pauli.string_to_pauli_word(num_wires*'X'),\n",
        "            qml.pauli.string_to_pauli_word(num_wires*'Y') ,\n",
        "            qml.pauli.string_to_pauli_word(num_wires*'Z') ]\n",
        "\n",
        "    return qml.Hamiltonian(coeff, obs)"
      ],
      "metadata": {
        "id": "4t0OQv1wDOC2"
      },
      "execution_count": 3,
      "outputs": []
    },
    {
      "cell_type": "code",
      "source": [
        "def VQE( Hamiltonian,\n",
        "            ansatz,\n",
        "            params,\n",
        "            optimizer,\n",
        "            max_iterations = 100,\n",
        "            conv_tol       = None,\n",
        "            device         = \"default.qubit\",\n",
        "            shots          = None,\n",
        "            callback       = None\n",
        "             ):\n",
        "\n",
        "    num_wires = len(Hamiltonian.wires)\n",
        "    dev = qml.device(device, wires=num_wires, shots=shots)\n",
        "    @qml.qnode(dev)\n",
        "    def cost_func(params):\n",
        "        ansatz(params)\n",
        "        return qml.expval(Hamiltonian)\n",
        "\n",
        "    # store the values of the cost function\n",
        "    energy_k = [cost_func(params)]\n",
        "\n",
        "    # store the values of the circuit parameter\n",
        "    params_k = [params]\n",
        "\n",
        "    for n in range(max_iterations):\n",
        "        params, prev_energy = optimizer.step_and_cost(cost_func, params)\n",
        "\n",
        "        energy_k.append(cost_func(params))\n",
        "        params_k.append(params)\n",
        "\n",
        "        if callback is not None:\n",
        "            callback(params)\n",
        "\n",
        "        # if n % 2 == 0:\n",
        "            # print(f\"Step = {n},  Energy = {energy_k[-1]:.8f} Ha\")\n",
        "\n",
        "        if conv_tol is not None:\n",
        "            conv = np.abs(energy_k[-1] - prev_energy)\n",
        "            if conv <= conv_tol:\n",
        "                break\n",
        "\n",
        "    return params_k, energy_k"
      ],
      "metadata": {
        "id": "jSZGMIA8Dfjw"
      },
      "execution_count": 4,
      "outputs": []
    },
    {
      "cell_type": "code",
      "source": [
        "def cnot_layer( n_qbits, n_cnot='Full_connect' ):\n",
        "    \"\"\"\n",
        "    Create an entangling layer circuit.\n",
        "\n",
        "    Input:\n",
        "    n_qbits (int): Number of qubits of the circuit\n",
        "    n_cnot (int, list, str):  Specify the type of entangling layer:\n",
        "        str = 'Full_connect' ; that means the circuit is full fill with CNOT's gates.\n",
        "        int = Number of CNOT's to implement from the first qubit to the last of the first half of qubits in descendet order.\n",
        "        list= List of pair values e.g. [[1,2], [7,6]], first element of each list is control qubit e.g 1, 7 and the second the target qubit e.g 2, 6.\n",
        "\n",
        "    Output:\n",
        "    (QuantumCircuit): Entangling layer\n",
        "    \"\"\"\n",
        "    sysA = int( len(n_qbits)/2 )\n",
        "\n",
        "    if isinstance( n_cnot, int ):\n",
        "        for i in range( n_cnot ):\n",
        "            qml.CNOT( wires=[ n_qbits[i] , n_qbits[i + sysA] ] )\n",
        "\n",
        "    elif n_cnot == 'Full_connect':\n",
        "        for i in range( sysA ):\n",
        "            qml.CNOT( wires=[ n_qbits[i] , n_qbits[i + sysA] ] )\n",
        "\n",
        "    else:\n",
        "        n_cnot = np.shape( n_cnot )[0]\n",
        "        for i in range( n_cnot ):\n",
        "            qml.CNOT( wires=[ n_cnot[i][0] , n_cnot[i][1] ] )\n",
        "\n",
        "\n",
        "def SCL( params, n_qbits, n_qbits_crz=2, deep=1 ):\n",
        "    \"\"\"\n",
        "    Schmidt Coefficient Layer (SCL) that performs a Schmidth decomposition or a basis change.\n",
        "\n",
        "    Input:\n",
        "    params (list):      Parameters to initialize the circuit.\n",
        "    n_qbits (iterable): Qubits of the layer.\n",
        "    n_qbits_crz (list): Qubits in the control Z gate. Default (2) is for 1 control qubit and 1 target qubit.\n",
        "    deep (int):         Times that the circuit is repeated.\n",
        "    name (str):         Name of the circuit.\n",
        "\n",
        "    Output:\n",
        "    (QuantumCircuit): A Parametric Quantum Circuit.\n",
        "    \"\"\"\n",
        "\n",
        "    qubits= len( n_qbits )\n",
        "    par = -(qubits % 2) # parity test: -1 for odd, 0 for even\n",
        "\n",
        "    for i in range( qubits ):\n",
        "        qml.RY( params[i], wires=[ n_qbits[i] ] )\n",
        "\n",
        "    cc = -1\n",
        "    for _ in range( 1, deep+1 ):\n",
        "\n",
        "        for i in range( 0 , qubits + par, n_qbits_crz ):\n",
        "            for l in range( 1, n_qbits_crz ):\n",
        "                cc += 1\n",
        "                qml.CZ( wires=[ n_qbits[i], n_qbits[i+l] ] )\n",
        "\n",
        "        for i in range( qubits ):\n",
        "            cc += 1\n",
        "            qml.RY( params[ qubits + cc ], wires=[ n_qbits[i] ] )\n",
        "\n",
        "        for i in range( 1, qubits-1, n_qbits_crz ):\n",
        "            for l in range( 1, n_qbits_crz ):\n",
        "                cc += 1\n",
        "                qml.CZ( wires=[ n_qbits[i], n_qbits[i+l] ] )\n",
        "                qml.RY( params[ qubits + cc ], wires=[ n_qbits[i] ] )\n",
        "                qml.RY( params[ qubits + cc ], wires=[ n_qbits[i + l] ] )\n",
        "\n",
        "\n",
        "def ansatz_constructor( n_qbits, unitaries=[SCL, SCL, SCL], n_qb_crz=[2,2,2], deep= [1,1,1], n_cnot='Full_connect' ):\n",
        "    \"\"\"\n",
        "    The State Efficient Ansatz parametric quantum circuit (PQC) that perform a schmith decomposition, entanglement and a basis change.\n",
        "    The ansatz circuit is made of three PQC's and one entangling layer.\n",
        "    The input parameters will define this four gates of the ansatz circuit U_1, V, U_2 and U_3.\n",
        "\n",
        "    Input:\n",
        "    n_qbits (int):            Number of qubits.\n",
        "    unitaries (list):         Containing the three PQC's that conform the SEA.\n",
        "    n_qbits_crz (list):       Qubits in the control Z gate for each PQC. Default ([2,2,2]) is for 1 control qubit and 1 target qubit for each PQC.\n",
        "    deep (list):              Times that each circuit is repeated.\n",
        "    n_cnot (int, list, str):  Specify the type of entangling layer:\n",
        "        str = 'Full_connect' ; that means the circuit is full fill with CNOT's gates.\n",
        "        int = Number of CNOT's to implement from the first qubit to the last of the first half of qubits in descendet order.\n",
        "        list= List of pair values e.g. [[1,2], [7,6]], first element of each list is control qubit e.g 1, 7 and the second the target qubit e.g 2, 6.\n",
        "\n",
        "    Output:\n",
        "    (QuantumCircuit): The State Efficient Ansatz parametric quantum circuit (PQC).\n",
        "    \"\"\"\n",
        "\n",
        "    def circuit(params):\n",
        "        unitaries[0]( params[0], range( int(n_qbits/2) ), n_qbits_crz=int(n_qb_crz[0]), deep=deep[0] )\n",
        "        cnot_layer( range(n_qbits), n_cnot=n_cnot )\n",
        "        unitaries[1]( params[1], range( int(n_qbits/2) ), n_qbits_crz=int(n_qb_crz[1]), deep=deep[1] )\n",
        "        unitaries[2]( params[2], range( int(n_qbits/2), n_qbits ), n_qbits_crz=int(n_qb_crz[2]), deep=deep[2] )\n",
        "\n",
        "    return circuit"
      ],
      "metadata": {
        "id": "IDnZXbc6D4qH"
      },
      "execution_count": 5,
      "outputs": []
    },
    {
      "cell_type": "markdown",
      "metadata": {
        "id": "ojhgyDubAXoK"
      },
      "source": [
        "We provides an early implementation of the local-global VQE and the State Efficient Ansatz for __Penylane__. We are going to optimize the following hamiltonian."
      ]
    },
    {
      "cell_type": "code",
      "execution_count": 6,
      "metadata": {
        "id": "Jkw7AFLRAXoM",
        "outputId": "efde445f-90e6-48aa-cd1a-b01a8865ec1c",
        "colab": {
          "base_uri": "https://localhost:8080/"
        }
      },
      "outputs": [
        {
          "output_type": "stream",
          "name": "stdout",
          "text": [
            "0 * (X(0) @ X(1) @ X(2) @ X(3) @ X(4) @ X(5)) + 0 * (Y(0) @ Y(1) @ Y(2) @ Y(3) @ Y(4) @ Y(5)) + 1 * (Z(0) @ Z(1) @ Z(2) @ Z(3) @ Z(4) @ Z(5))\n"
          ]
        }
      ],
      "source": [
        "num_wires = 6\n",
        "hamiltonian = test_hamiltonian_2( num_wires, [0,0,1] )\n",
        "print( hamiltonian )"
      ]
    },
    {
      "cell_type": "markdown",
      "metadata": {
        "id": "cbFs5RRzAXoO"
      },
      "source": [
        "Calculating the local Hamiltonian."
      ]
    },
    {
      "cell_type": "code",
      "execution_count": 7,
      "metadata": {
        "id": "kfTg8bO3AXoP",
        "outputId": "1fbf341c-481b-40f9-97b6-463912d51aa7",
        "colab": {
          "base_uri": "https://localhost:8080/"
        }
      },
      "outputs": [
        {
          "output_type": "stream",
          "name": "stdout",
          "text": [
            "0.0 * X(0) + 0.0 * X(1) + 0.0 * X(2) + 0.0 * X(3) + 0.0 * X(4) + 0.0 * X(5) + 0.0 * I(0) + 0.0 * Y(0) + 0.0 * Y(1) + 0.0 * Y(2) + 0.0 * Y(3) + 0.0 * Y(4) + 0.0 * Y(5) + 0.16666666666666666 * Z(0) + 0.16666666666666666 * Z(1) + 0.16666666666666666 * Z(2) + 0.16666666666666666 * Z(3) + 0.16666666666666666 * Z(4) + 0.16666666666666666 * Z(5)\n"
          ]
        },
        {
          "output_type": "stream",
          "name": "stderr",
          "text": [
            "/usr/local/lib/python3.11/dist-packages/pennylane/ops/op_math/prod.py:258: PennyLaneDeprecationWarning: Accessing the terms of a tensor product operator via op.obs is deprecated, please use op.operands instead.\n",
            "  warnings.warn(\n"
          ]
        }
      ],
      "source": [
        "hamiltonian_local = global2local( hamiltonian )\n",
        "print(hamiltonian_local)"
      ]
    },
    {
      "cell_type": "markdown",
      "metadata": {
        "id": "eBFafKBWAXoQ"
      },
      "source": [
        "Creating the variational circuit."
      ]
    },
    {
      "cell_type": "code",
      "execution_count": 8,
      "metadata": {
        "id": "Mxe4pLg6AXoQ"
      },
      "outputs": [],
      "source": [
        "def ansatz(params, num_layers=0):\n",
        "\n",
        "    num_wires = len(params)//(2*num_layers+2)\n",
        "\n",
        "    K = 0\n",
        "    for i in range(num_layers):\n",
        "        qml.broadcast( qml.RY, wires=range(num_wires), pattern='single', parameters=params[K:K+num_wires] )\n",
        "        qml.broadcast( qml.RZ, wires=range(num_wires), pattern='single', parameters=params[K+num_wires:K+2*num_wires] )\n",
        "        qml.broadcast( qml.CNOT, wires=range(num_wires), pattern='ring')\n",
        "        K = K+2*num_wires\n",
        "\n",
        "    qml.broadcast( qml.RY, wires=range(num_wires), pattern='single', parameters=params[K:K+num_wires] )\n",
        "    qml.broadcast( qml.RZ, wires=range(num_wires), pattern='single', parameters=params[K+num_wires:K+2*num_wires] )"
      ]
    },
    {
      "cell_type": "markdown",
      "metadata": {
        "id": "UGptX3ECAXoR"
      },
      "source": [
        "Choosing SPSA as optimizer."
      ]
    },
    {
      "cell_type": "code",
      "execution_count": 9,
      "metadata": {
        "id": "snqTP-N9AXoS"
      },
      "outputs": [],
      "source": [
        "optimizer_spsa = qml.SPSAOptimizer(maxiter=1000)\n",
        "maxiter   = 300"
      ]
    },
    {
      "cell_type": "markdown",
      "source": [
        "It's a Signum optimizer"
      ],
      "metadata": {
        "id": "x0ulq3ifqBMn"
      }
    },
    {
      "cell_type": "code",
      "source": [
        "\"\"\"Signum optimizer\"\"\"\n",
        "from numpy import sqrt, sign\n",
        "\n",
        "#from .gradient_descent import GradientDescentOptimizer\n",
        "from pennylane import GradientDescentOptimizer\n",
        "\n",
        "\n",
        "\n",
        "class SignumOptimizer(GradientDescentOptimizer):\n",
        "    r\"\"\"Gradient-descent optimizer with adaptive learning rate, first and second moment.\n",
        "\n",
        "    Adaptive Moment Estimation uses a step-dependent learning rate,\n",
        "    a first moment :math:`a` and a second moment :math:`b`, reminiscent of\n",
        "    the momentum and velocity of a particle:\n",
        "\n",
        "    .. math::\n",
        "        x^{(t+1)} = x^{(t)} - \\eta^{(t+1)} \\frac{a^{(t+1)}}{\\sqrt{b^{(t+1)}} + \\epsilon },\n",
        "\n",
        "    where the update rules for the two moments are given by\n",
        "\n",
        "    .. math::\n",
        "        a^{(t+1)} &= \\beta_1 a^{(t)} + (1-\\beta_1) \\nabla f(x^{(t)}),\\\\\n",
        "        b^{(t+1)} &= \\beta_2 b^{(t)} + (1-\\beta_2) (\\nabla f(x^{(t)}))^{\\odot 2},\\\\\n",
        "        \\eta^{(t+1)} &= \\eta \\frac{\\sqrt{(1-\\beta_2^{t+1})}}{(1-\\beta_1^{t+1})}.\n",
        "\n",
        "    Above, :math:`( \\nabla f(x^{(t-1)}))^{\\odot 2}` denotes the element-wise square operation,\n",
        "    which means that each element in the gradient is multiplied by itself. The hyperparameters\n",
        "    :math:`\\beta_1` and :math:`\\beta_2` can also be step-dependent. Initially, the first and\n",
        "    second moment are zero.\n",
        "\n",
        "    The shift :math:`\\epsilon` avoids division by zero.\n",
        "\n",
        "    For more details, see `arXiv:1412.6980 <https://arxiv.org/abs/1412.6980>`_.\n",
        "\n",
        "    Args:\n",
        "        stepsize (float): the user-defined hyperparameter :math:`\\eta`\n",
        "        beta1 (float): hyperparameter governing the update of the first and second moment\n",
        "        beta2 (float): hyperparameter governing the update of the first and second moment\n",
        "        eps (float): offset :math:`\\epsilon` added for numerical stability\n",
        "\n",
        "    .. note::\n",
        "\n",
        "        When using ``torch``, ``tensorflow`` or ``jax`` interfaces, refer to :doc:`Gradients and training </introduction/interfaces>` for suitable optimizers.\n",
        "\n",
        "    \"\"\"\n",
        "\n",
        "    def __init__(self, stepsize=0.01, beta1=0.9, beta2=0.99):\n",
        "        super().__init__(stepsize)\n",
        "        self.beta1 = beta1\n",
        "        self.beta2 = beta2\n",
        "        self.accumulation = None\n",
        "\n",
        "\n",
        "\n",
        "    def apply_grad(self, grad, args):\n",
        "        r\"\"\"Update the variables args to take a single optimization step. Flattens and unflattens\n",
        "        the inputs to maintain nested iterables as the parameters of the optimization.\n",
        "\n",
        "        Args:\n",
        "            grad (tuple[ndarray]): the gradient of the objective\n",
        "                function at point :math:`x^{(t)}`: :math:`\\nabla f(x^{(t)})`\n",
        "            args (tuple): the current value of the variables :math:`x^{(t)}`\n",
        "\n",
        "        Returns:\n",
        "            list: the new values :math:`x^{(t+1)}`\n",
        "        \"\"\"\n",
        "        args_new = list(args)\n",
        "\n",
        "        if self.accumulation is None:\n",
        "            self.accumulation = {\"dx\": [0] * len(args), \"dx_sgn\": [0] * len(args), \"t\": 0}\n",
        "\n",
        "        self.accumulation[\"t\"] += 1\n",
        "\n",
        "        bias_correction1 = 1 - self.beta1 ** self.accumulation[\"t\"]\n",
        "\n",
        "\n",
        "        trained_index = 0\n",
        "        for index, arg in enumerate(args):\n",
        "            if getattr(arg, \"requires_grad\", False):\n",
        "                self._update_accumulation(index, grad[trained_index])\n",
        "                args_new[index] = arg + self.accumulation[\"dx\"][index] / bias_correction1\n",
        "\n",
        "                trained_index += 1\n",
        "\n",
        "        return args_new\n",
        "\n",
        "\n",
        "    def _update_accumulation(self, index, grad):\n",
        "        r\"\"\"Update the moments.\n",
        "\n",
        "        Args:\n",
        "            index (int): the index of the argument to update\n",
        "            grad (ndarray): the gradient for that trainable param\n",
        "        \"\"\"\n",
        "\n",
        "        bias_correction2 = 1 - self.beta2 ** self.accumulation[\"t\"]\n",
        "\n",
        "        #bias_correction1 = 1 - self.beta1 ** self.accumulation[\"t\"]\n",
        "\n",
        "        previous_step = self.accumulation[\"dx\"][index] #/ bias_correction1\n",
        "\n",
        "        # update the step-sign correlator\n",
        "        self.accumulation[\"dx_sgn\"][index] = (\n",
        "            self.beta2 * self.accumulation[\"dx_sgn\"][index] + (1 - self.beta2) * sign(grad) * previous_step\n",
        "        )\n",
        "\n",
        "        cross_correlator = self.accumulation[\"dx_sgn\"][index] / bias_correction2\n",
        "\n",
        "        # Calculate the learning rate\n",
        "        lr = self.beta1 * cross_correlator + sqrt((self.beta1 * cross_correlator)**2 + (1 - self.beta1**2) * self.stepsize**2)\n",
        "\n",
        "        # update momentum\n",
        "        self.accumulation[\"dx\"][index] = (\n",
        "            self.beta1 * self.accumulation[\"dx\"][index] - lr * sign(grad)\n",
        "        )\n",
        "\n",
        "\n",
        "    def reset(self):\n",
        "        \"\"\"Reset optimizer by erasing memory of past steps.\"\"\"\n",
        "        self.accumulation = None\n",
        "\n",
        "\n",
        "    @property\n",
        "    def dx(self):\n",
        "        \"\"\"Returns estimated momentum\"\"\"\n",
        "        return None if self.accumulation is None else self.accumulation[\"dx\"]\n",
        "\n",
        "    @property\n",
        "    def dx_sgn(self):\n",
        "        \"\"\"Returns estimated cross-correlator\"\"\"\n",
        "        return None if self.accumulation is None else self.accumulation[\"dx_sgn\"]\n",
        "\n",
        "    @property\n",
        "    def t(self):\n",
        "        \"\"\"Returns accumulated timesteps\"\"\"\n",
        "        return None if self.accumulation is None else self.accumulation[\"t\"]"
      ],
      "metadata": {
        "id": "KZhT5FBkqJmw"
      },
      "execution_count": 10,
      "outputs": []
    },
    {
      "cell_type": "markdown",
      "source": [
        "It's signum-spsa optimizer"
      ],
      "metadata": {
        "id": "WJ81FD6Hx41X"
      }
    },
    {
      "cell_type": "code",
      "source": [
        "\"\"\"Signum-SPSA optimizer\"\"\"\n",
        "\n",
        "import numpy as np\n",
        "\n",
        "from pennylane.measurements import Shots\n",
        "\n",
        "\n",
        "class Signum_SPSAOptimizer:\n",
        "    r\"\"\"The Simultaneous Perturbation Stochastic Approximation method (SPSA)\n",
        "    is a stochastic approximation algorithm for optimizing cost functions whose evaluation may involve noise.\n",
        "    \"\"\"\n",
        "\n",
        "    # pylint: disable-msg=too-many-arguments\n",
        "    def __init__(self, stepsize=0.01, beta1=0.9, beta2=0.99, maxiter=None, alpha=0.602, gamma=0.101, c=0.2, A=None, a=None):\n",
        "        self.a = a\n",
        "        self.A = A\n",
        "        if not maxiter and not A:\n",
        "            raise TypeError(\"One of the parameters maxiter or A must be provided.\")\n",
        "        if not A:\n",
        "            self.A = maxiter * 0.1\n",
        "        if not a:\n",
        "            self.a = 0.05 * (self.A + 1) ** alpha\n",
        "        self.c = c\n",
        "        self.alpha = alpha\n",
        "        self.gamma = gamma\n",
        "        self.k = 1\n",
        "        self.ak = self.a / (self.A + 1) ** self.alpha\n",
        "        #super().__init__(stepsize)\n",
        "        self.stepsize = stepsize\n",
        "        self.beta1 = beta1\n",
        "        self.beta2 = beta2\n",
        "        self.accumulation = None\n",
        "\n",
        "\n",
        "    def step_and_cost(self, objective_fn, *args, **kwargs):\n",
        "        r\"\"\"Update the parameter array :math:`\\hat{\\theta}_k` with one step of the\n",
        "        optimizer and return the step and the corresponding objective function. The number\n",
        "        of steps stored by the ``k`` attribute of the optimizer is counted internally when calling ``step_and_cost`` and ``cost``.\n",
        "\n",
        "        Args:\n",
        "            objective_fn (function): the objective function for optimization\n",
        "            *args : variable length argument array for objective function\n",
        "            **kwargs : variable length of keyword arguments for the objective function\n",
        "\n",
        "        Returns:\n",
        "            tuple[list [array], float]: the new variable values :math:`\\hat{\\theta}_{k+1}` and the\n",
        "            objective function output prior to the step.\n",
        "        \"\"\"\n",
        "        g = self.compute_grad(objective_fn, args, kwargs)\n",
        "\n",
        "        new_args = self.apply_grad(g, args)\n",
        "\n",
        "        self.k += 1\n",
        "\n",
        "        forward = objective_fn(*args, **kwargs)\n",
        "\n",
        "        # unwrap from list if one argument, cleaner return\n",
        "        if len(new_args) == 1:\n",
        "            return new_args[0], forward\n",
        "        return new_args, forward\n",
        "\n",
        "\n",
        "\n",
        "    def step(self, objective_fn, *args, **kwargs):\n",
        "        r\"\"\"Update trainable arguments with one step of the optimizer. The number\n",
        "        of steps is being counted through calls to ``step_and_cost`` and ``cost``.\n",
        "\n",
        "        Args:\n",
        "            objective_fn (function): the objective function for optimization\n",
        "            *args : variable length argument array for objective function\n",
        "            **kwargs : variable length of keyword arguments for the objective function\n",
        "\n",
        "        Returns:\n",
        "            list [array]: the new variable values :math:`\\hat{\\theta}_{k+1}`.\n",
        "        \"\"\"\n",
        "        g = self.compute_grad(objective_fn, args, kwargs)\n",
        "        new_args = self.apply_grad(g, args)\n",
        "\n",
        "        self.k += 1\n",
        "\n",
        "        # unwrap from list if one argument, cleaner return\n",
        "        if len(new_args) == 1:\n",
        "            return new_args[0]\n",
        "\n",
        "        return new_args\n",
        "\n",
        "\n",
        "    def compute_grad(self, objective_fn, args, kwargs):\n",
        "        r\"\"\"Approximate the gradient of the objective function at the\n",
        "        given point.\n",
        "\n",
        "        Args:\n",
        "            objective_fn (function): The objective function for optimization\n",
        "            args (tuple): tuple of NumPy array containing the current parameters\n",
        "                for objective function\n",
        "            kwargs (dict): keyword arguments for the objective function\n",
        "\n",
        "        Returns:\n",
        "            tuple (array): NumPy array containing the gradient\n",
        "                :math:`\\hat{g}_k(\\hat{\\theta}_k)`\n",
        "        \"\"\"\n",
        "        ck = self.c / self.k**self.gamma\n",
        "\n",
        "        delta = []\n",
        "        thetaplus = list(args)\n",
        "        thetaminus = list(args)\n",
        "\n",
        "        for index, arg in enumerate(args):\n",
        "            if getattr(arg, \"requires_grad\", False):\n",
        "                # Use the symmetric Bernoulli distribution to generate\n",
        "                # the coordinates of delta. Note that other distributions\n",
        "                # may also be used (they need to satisfy certain conditions).\n",
        "                # Refer to the paper linked in the class docstring for more info.\n",
        "                di = np.random.choice([-1, 1], size=arg.shape)\n",
        "                multiplier = ck * di\n",
        "                thetaplus[index] = arg + multiplier\n",
        "                thetaminus[index] = arg - multiplier\n",
        "                delta.append(di)\n",
        "        yplus = objective_fn(*thetaplus, **kwargs)\n",
        "        yminus = objective_fn(*thetaminus, **kwargs)\n",
        "        try:\n",
        "\n",
        "            dev_shots = objective_fn.device.shots\n",
        "\n",
        "            shots = dev_shots if dev_shots.has_partitioned_shots else Shots(None)\n",
        "\n",
        "            if np.prod(objective_fn.func(*args, **kwargs).shape(objective_fn.device, shots)) > 1:\n",
        "                raise ValueError(\n",
        "                    \"The objective function must be a scalar function for the gradient \"\n",
        "                    \"to be computed.\"\n",
        "                )\n",
        "        except AttributeError:\n",
        "            if yplus.size > 1:\n",
        "                raise ValueError(  # pylint: disable=raise-missing-from\n",
        "                    \"The objective function must be a scalar function for the gradient \"\n",
        "                    \"to be computed.\"\n",
        "                )\n",
        "        grad = [(yplus - yminus) / (2 * ck * di) for di in delta]\n",
        "\n",
        "        return tuple(grad)\n",
        "\n",
        "\n",
        "\n",
        "    def apply_grad(self, grad, args):\n",
        "        r\"\"\"Update the variables args to take a single optimization step. Flattens and unflattens\n",
        "        the inputs to maintain nested iterables as the parameters of the optimization.\n",
        "\n",
        "        Args:\n",
        "            grad (tuple[ndarray]): the gradient of the objective\n",
        "                function at point :math:`x^{(t)}`: :math:`\\nabla f(x^{(t)})`\n",
        "            args (tuple): the current value of the variables :math:`x^{(t)}`\n",
        "\n",
        "        Returns:\n",
        "            list: the new values :math:`x^{(t+1)}`\n",
        "        \"\"\"\n",
        "        args_new = list(args)\n",
        "\n",
        "        if self.accumulation is None:\n",
        "            self.accumulation = {\"dx\": [0] * len(args), \"dx_sgn\": [0] * len(args), \"t\": 0}\n",
        "\n",
        "        self.accumulation[\"t\"] += 1\n",
        "\n",
        "        bias_correction1 = 1 - self.beta1 ** self.accumulation[\"t\"]\n",
        "\n",
        "\n",
        "        trained_index = 0\n",
        "        for index, arg in enumerate(args):\n",
        "            if getattr(arg, \"requires_grad\", False):\n",
        "                self._update_accumulation(index, grad[trained_index])\n",
        "                args_new[index] = arg + self.accumulation[\"dx\"][index] / bias_correction1\n",
        "\n",
        "                trained_index += 1\n",
        "\n",
        "        return args_new\n",
        "\n",
        "\n",
        "    def _update_accumulation(self, index, grad):\n",
        "        r\"\"\"Update the moments.\n",
        "\n",
        "        Args:\n",
        "            index (int): the index of the argument to update\n",
        "            grad (ndarray): the gradient for that trainable param\n",
        "        \"\"\"\n",
        "\n",
        "        bias_correction2 = 1 - self.beta2 ** self.accumulation[\"t\"]\n",
        "\n",
        "        #bias_correction1 = 1 - self.beta1 ** self.accumulation[\"t\"]\n",
        "\n",
        "        previous_step = self.accumulation[\"dx\"][index] #/ bias_correction1\n",
        "\n",
        "        # update the step-sign correlator\n",
        "        self.accumulation[\"dx_sgn\"][index] = (\n",
        "            self.beta2 * self.accumulation[\"dx_sgn\"][index] + (1 - self.beta2) * sign(grad) * previous_step\n",
        "        )\n",
        "\n",
        "        cross_correlator = self.accumulation[\"dx_sgn\"][index] / bias_correction2\n",
        "\n",
        "        # Calculate the learning rate\n",
        "        lr = self.beta1 * cross_correlator + sqrt((self.beta1 * cross_correlator)**2 + (1 - self.beta1**2) * self.stepsize**2)\n",
        "\n",
        "        # update momentum\n",
        "        self.accumulation[\"dx\"][index] = (\n",
        "            self.beta1 * self.accumulation[\"dx\"][index] - lr * sign(grad)\n",
        "        )\n",
        "\n",
        "\n",
        "    def reset(self):\n",
        "        \"\"\"Reset optimizer by erasing memory of past steps.\"\"\"\n",
        "        self.accumulation = None\n",
        "\n",
        "\n",
        "    @property\n",
        "    def dx(self):\n",
        "        \"\"\"Returns estimated momentum\"\"\"\n",
        "        return None if self.accumulation is None else self.accumulation[\"dx\"]\n",
        "\n",
        "    @property\n",
        "    def dx_sgn(self):\n",
        "        \"\"\"Returns estimated cross-correlator\"\"\"\n",
        "        return None if self.accumulation is None else self.accumulation[\"dx_sgn\"]\n",
        "\n",
        "    @property\n",
        "    def t(self):\n",
        "        \"\"\"Returns accumulated timesteps\"\"\"\n",
        "        return None if self.accumulation is None else self.accumulation[\"t\"]\n",
        "\n"
      ],
      "metadata": {
        "id": "wDc_VJiTyHn9"
      },
      "execution_count": 21,
      "outputs": []
    },
    {
      "cell_type": "code",
      "source": [
        "optimizer_signum = SignumOptimizer(stepsize=1e-2)\n",
        "maxiter   = 300"
      ],
      "metadata": {
        "id": "T2Pr-30brUHg"
      },
      "execution_count": 23,
      "outputs": []
    },
    {
      "cell_type": "code",
      "source": [
        "optimizer_signum_spsa = Signum_SPSAOptimizer(stepsize=1e-2, maxiter=1000)"
      ],
      "metadata": {
        "id": "euKOzeyd2N9i"
      },
      "execution_count": 24,
      "outputs": []
    },
    {
      "cell_type": "code",
      "source": [
        "optimizer_adam = qml.AdamOptimizer(stepsize=1e-2)"
      ],
      "metadata": {
        "id": "EWktiUP8v5Ym"
      },
      "execution_count": 25,
      "outputs": []
    },
    {
      "cell_type": "markdown",
      "metadata": {
        "id": "AjvBylyjAXoT"
      },
      "source": [
        "Defining a device."
      ]
    },
    {
      "cell_type": "code",
      "execution_count": 26,
      "metadata": {
        "id": "s70NN2kSAXoT"
      },
      "outputs": [],
      "source": [
        "dev = qml.device(\"default.qubit\", wires=num_wires)\n",
        "@qml.qnode(dev)\n",
        "def cost_func(params):\n",
        "    ansatz(params)\n",
        "    return qml.expval(hamiltonian)"
      ]
    },
    {
      "cell_type": "markdown",
      "metadata": {
        "id": "_hJbQIQEAXoU"
      },
      "source": [
        "Runing the VQEs."
      ]
    },
    {
      "cell_type": "code",
      "execution_count": 27,
      "metadata": {
        "id": "rGU-5PL9AXoV"
      },
      "outputs": [],
      "source": [
        "np.random.seed(100)\n",
        "params_in = np.random.randn( 2*num_wires )*np.pi\n",
        "params_out, energies_global_spsa = VQE( hamiltonian, ansatz, params_in, optimizer_spsa, shots=2**6, max_iterations=maxiter )"
      ]
    },
    {
      "cell_type": "code",
      "source": [
        "np.random.seed(100)\n",
        "#params_in = np.random.randn( 2*num_wires )*np.pi\n",
        "params_out, energies_global_signum = VQE( hamiltonian, ansatz, params_in, optimizer_signum, shots=2**6, max_iterations=maxiter )"
      ],
      "metadata": {
        "id": "Pl9oaxDO7qEV"
      },
      "execution_count": null,
      "outputs": []
    },
    {
      "cell_type": "code",
      "source": [
        "np.random.seed(100)\n",
        "#params_in = np.random.randn( 2*num_wires )*np.pi\n",
        "params_out, energies_global_adam = VQE( hamiltonian, ansatz, params_in, optimizer_adam, shots=2**6, max_iterations=maxiter )"
      ],
      "metadata": {
        "id": "_57aOFnnwMT_"
      },
      "execution_count": null,
      "outputs": []
    },
    {
      "cell_type": "code",
      "source": [
        "np.random.seed(100)\n",
        "#params_in = np.random.randn( 2*num_wires )*np.pi\n",
        "params_out, energies_global_signum_spsa = VQE( hamiltonian, ansatz, params_in, optimizer_signum_spsa, shots=2**6, max_iterations=maxiter )"
      ],
      "metadata": {
        "id": "i_tQ4g9_2osI"
      },
      "execution_count": null,
      "outputs": []
    },
    {
      "cell_type": "code",
      "execution_count": null,
      "metadata": {
        "id": "8J7ofgjlAXoV"
      },
      "outputs": [],
      "source": [
        "np.random.seed(100)\n",
        "#params_in = np.random.randn( 2*num_wires )*np.pi\n",
        "params_out, energies_local  = VQE( hamiltonian_local, ansatz, params_in, optimizer_spsa, shots=2**6, max_iterations=maxiter//2)\n",
        "energies_global_from_local = [ cost_func(x) for x in params_out ]"
      ]
    },
    {
      "cell_type": "code",
      "execution_count": null,
      "metadata": {
        "id": "eGRS4fgIAXoV"
      },
      "outputs": [],
      "source": [
        "np.random.seed(100)\n",
        "params_in = np.random.randn( 6*num_wires )*np.pi\n",
        "params_out, energies_global_after_local = VQE( hamiltonian, ansatz, params_out[-1], optimizer_spsa, shots=2**6, max_iterations=maxiter//2 )"
      ]
    },
    {
      "cell_type": "code",
      "execution_count": null,
      "metadata": {
        "id": "qV0VLsWJAXoW",
        "outputId": "f8e0a101-aae7-455d-9c44-dad9724735f1",
        "colab": {
          "base_uri": "https://localhost:8080/",
          "height": 447
        }
      },
      "outputs": [
        {
          "output_type": "execute_result",
          "data": {
            "text/plain": [
              "<matplotlib.legend.Legend at 0x7c5ff6d0c7d0>"
            ]
          },
          "metadata": {},
          "execution_count": 65
        },
        {
          "output_type": "display_data",
          "data": {
            "text/plain": [
              "<Figure size 640x480 with 1 Axes>"
            ],
            "image/png": "[encoded data removed]"
          },
          "metadata": {}
        }
      ],
      "source": [
        "plt.plot( energies_global_spsa, 'o' )\n",
        "plt.plot( energies_global_signum, 'o' )\n",
        "#plt.plot( energies_global_from_local, 'o' )\n",
        "plt.plot( energies_global_adam, 'o' )\n",
        "plt.plot( energies_global_signum_spsa, 'o' )\n",
        "plt.plot( range(maxiter//2,maxiter+1), energies_global_after_local, 'o' )\n",
        "plt.legend([ 'Standard_spsa', 'Standard_signum',\n",
        "            #'local',\n",
        "             'Standard_adam', 'Standard_signum_spsa' #\n",
        "             'global'])\n"
      ]
    },
    {
      "cell_type": "markdown",
      "metadata": {
        "id": "gpXIC-39AXoW"
      },
      "source": [
        "We also implement the Efficient State Ansatz."
      ]
    },
    {
      "cell_type": "code",
      "execution_count": null,
      "metadata": {
        "id": "RI9aZRNFAXoW"
      },
      "outputs": [],
      "source": [
        "n_qbits = num_wires\n",
        "reps    = 1\n",
        "SEA = ansatz_constructor(n_qbits , deep=[reps,reps,reps])\n",
        "\n",
        "num_params_SEA = ( reps +1 )*n_qbits + reps*(n_qbits - 2)\n",
        "\n",
        "params_SEA = [ np.random.randn( num_params_SEA )*np.pi for _ in range(3) ]"
      ]
    },
    {
      "cell_type": "code",
      "execution_count": null,
      "metadata": {
        "id": "W46gEoBqAXoX"
      },
      "outputs": [],
      "source": [
        "par, results_SEA = VQE(hamiltonian, SEA, params_SEA, optimizer_spsa, shots=2**6, max_iterations=maxiter)"
      ]
    },
    {
      "cell_type": "code",
      "execution_count": null,
      "metadata": {
        "id": "YAx1ZnjbAXoX",
        "outputId": "9100035c-700e-4611-fcdd-722bc17a2b69",
        "colab": {
          "base_uri": "https://localhost:8080/",
          "height": 447
        }
      },
      "outputs": [
        {
          "output_type": "execute_result",
          "data": {
            "text/plain": [
              "<matplotlib.legend.Legend at 0x7c5ff674c7d0>"
            ]
          },
          "metadata": {},
          "execution_count": 68
        },
        {
          "output_type": "display_data",
          "data": {
            "text/plain": [
              "<Figure size 640x480 with 1 Axes>"
            ],
            "image/png": "[encoded data removed]"
          },
          "metadata": {}
        }
      ],
      "source": [
        "plt.plot( energies_global_signum, label='SU_signum' )\n",
        "plt.plot( energies_global_adam, label='SU_adam' )\n",
        "#plt.plot( results_SEA, label='SEA' )\n",
        "plt.legend(  )"
      ]
    },
    {
      "cell_type": "markdown",
      "metadata": {
        "id": "hJ1TvjfOAXoX"
      },
      "source": [
        "Our current implementation is not able to outperforme barren plateaus. We think that improve our VQE and the classical optimizer is mandatory to obtain better results. This is a first step to have this routines in Pennylane."
      ]
    },
    {
      "cell_type": "code",
      "execution_count": null,
      "metadata": {
        "id": "_quopxaeAXoY"
      },
      "outputs": [],
      "source": []
    }
  ],
  "metadata": {
    "kernelspec": {
      "display_name": "Python 3.9.5 ('pennylame_environment')",
      "language": "python",
      "name": "python3"
    },
    "language_info": {
      "codemirror_mode": {
        "name": "ipython",
        "version": 3
      },
      "file_extension": ".py",
      "mimetype": "text/x-python",
      "name": "python",
      "nbconvert_exporter": "python",
      "pygments_lexer": "ipython3",
      "version": "3.9.5"
    },
    "orig_nbformat": 4,
    "vscode": {
      "interpreter": {
        "hash": "1b66e720b252c94007dba4121a84eaf5f8cd0a135acb0bca3c0a4bbe509d7c9f"
      }
    },
    "colab": {
      "provenance": [],
      "include_colab_link": true
    }
  },
  "nbformat": 4,
  "nbformat_minor": 0
}