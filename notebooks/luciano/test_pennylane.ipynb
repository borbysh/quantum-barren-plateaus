{
 "cells": [
  {
   "cell_type": "code",
   "execution_count": 1,
   "metadata": {},
   "outputs": [],
   "source": [
    "import sys\n",
    "sys.path.append('../..')\n",
    "import pennylane.numpy as np\n",
    "import matplotlib.pyplot as plt\n",
    "import pennylane as qml"
   ]
  },
  {
   "cell_type": "code",
   "execution_count": 2,
   "metadata": {},
   "outputs": [],
   "source": [
    "from qubap.pennylane.costfunc_barren_plateau import global2local, test_hamiltonian\n",
    "from qubap.pennylane.variational_algorithms import VQE"
   ]
  },
  {
   "cell_type": "code",
   "execution_count": 3,
   "metadata": {},
   "outputs": [
    {
     "name": "stdout",
     "output_type": "stream",
     "text": [
      "<Hamiltonian: terms=64, wires=[0, 1, 2, 3, 4, 5]>\n"
     ]
    }
   ],
   "source": [
    "num_wires = 6\n",
    "hamiltonian = test_hamiltonian( num_wires )\n",
    "hamiltonian"
   ]
  },
  {
   "cell_type": "code",
   "execution_count": 4,
   "metadata": {},
   "outputs": [
    {
     "name": "stdout",
     "output_type": "stream",
     "text": [
      "  (-0.08072916666666667) [Z4]\n",
      "+ (-0.08072916666666667) [Z5]\n",
      "+ (-0.08072916666666667) [Z3]\n",
      "+ (-0.08072916666666667) [Z2]\n",
      "+ (-0.08072916666666667) [Z1]\n",
      "+ (-0.08072916666666667) [Z0]\n",
      "+ (0.48437500000000017) [I0]\n"
     ]
    }
   ],
   "source": [
    "hamiltonian_local = global2local( hamiltonian )\n",
    "hamiltonian_local"
   ]
  },
  {
   "cell_type": "code",
   "execution_count": 7,
   "metadata": {},
   "outputs": [],
   "source": [
    "def ansatz(params, num_layers=2):\n",
    "    \n",
    "    num_wires = len(params)//(2*num_layers+2)\n",
    "\n",
    "    K = 0\n",
    "    for i in range(num_layers):\n",
    "        qml.broadcast( qml.RY, wires=range(num_wires), pattern='single', parameters=params[K:K+num_wires] )\n",
    "        qml.broadcast( qml.RZ, wires=range(num_wires), pattern='single', parameters=params[K+num_wires:K+2*num_wires] )\n",
    "        qml.broadcast( qml.CNOT, wires=range(num_wires), pattern='ring')\n",
    "        K = K+2*num_wires\n",
    "\n",
    "    qml.broadcast( qml.RY, wires=range(num_wires), pattern='single', parameters=params[K:K+num_wires] )\n",
    "    qml.broadcast( qml.RZ, wires=range(num_wires), pattern='single', parameters=params[K+num_wires:K+2*num_wires] )"
   ]
  },
  {
   "cell_type": "code",
   "execution_count": 11,
   "metadata": {},
   "outputs": [],
   "source": [
    "optimizer = qml.SPSAOptimizer(maxiter=100)\n",
    "maxiter   = 100"
   ]
  },
  {
   "cell_type": "code",
   "execution_count": 17,
   "metadata": {},
   "outputs": [
    {
     "ename": "KeyboardInterrupt",
     "evalue": "",
     "output_type": "error",
     "traceback": [
      "\u001b[1;31m---------------------------------------------------------------------------\u001b[0m",
      "\u001b[1;31mKeyboardInterrupt\u001b[0m                         Traceback (most recent call last)",
      "\u001b[1;32mc:\\Users\\lucia\\Nextcloud\\Programas\\Github\\quantum-barren-plateaus\\notebooks\\luciano\\test_pennylane.ipynb Celda 7\u001b[0m in \u001b[0;36m<module>\u001b[1;34m\u001b[0m\n\u001b[0;32m      <a href='vscode-notebook-cell:/c%3A/Users/lucia/Nextcloud/Programas/Github/quantum-barren-plateaus/notebooks/luciano/test_pennylane.ipynb#W6sZmlsZQ%3D%3D?line=0'>1</a>\u001b[0m params_in \u001b[39m=\u001b[39m np\u001b[39m.\u001b[39mrandom\u001b[39m.\u001b[39mrandn( \u001b[39m6\u001b[39m\u001b[39m*\u001b[39mnum_wires )\u001b[39m*\u001b[39mnp\u001b[39m.\u001b[39mpi\n\u001b[1;32m----> <a href='vscode-notebook-cell:/c%3A/Users/lucia/Nextcloud/Programas/Github/quantum-barren-plateaus/notebooks/luciano/test_pennylane.ipynb#W6sZmlsZQ%3D%3D?line=1'>2</a>\u001b[0m params_out, energies_global \u001b[39m=\u001b[39m VQE( hamiltonian, ansatz, params_in, optimizer, shots\u001b[39m=\u001b[39;49m\u001b[39m2\u001b[39;49m\u001b[39m*\u001b[39;49m\u001b[39m*\u001b[39;49m\u001b[39m6\u001b[39;49m, max_iterations\u001b[39m=\u001b[39;49mmaxiter )\n\u001b[0;32m      <a href='vscode-notebook-cell:/c%3A/Users/lucia/Nextcloud/Programas/Github/quantum-barren-plateaus/notebooks/luciano/test_pennylane.ipynb#W6sZmlsZQ%3D%3D?line=2'>3</a>\u001b[0m params_out, energies_local  \u001b[39m=\u001b[39m VQE( hamiltonian_local, ansatz, params_in, optimizer, shots\u001b[39m=\u001b[39m\u001b[39m2\u001b[39m\u001b[39m*\u001b[39m\u001b[39m*\u001b[39m\u001b[39m6\u001b[39m, max_iterations\u001b[39m=\u001b[39mmaxiter )\n\u001b[0;32m      <a href='vscode-notebook-cell:/c%3A/Users/lucia/Nextcloud/Programas/Github/quantum-barren-plateaus/notebooks/luciano/test_pennylane.ipynb#W6sZmlsZQ%3D%3D?line=3'>4</a>\u001b[0m params_out, energies_global_after_local \u001b[39m=\u001b[39m VQE( hamiltonian_local, ansatz, params_out[\u001b[39m-\u001b[39m\u001b[39m1\u001b[39m], optimizer, shots\u001b[39m=\u001b[39m\u001b[39m2\u001b[39m\u001b[39m*\u001b[39m\u001b[39m*\u001b[39m\u001b[39m6\u001b[39m, max_iterations\u001b[39m=\u001b[39mmaxiter )\n",
      "File \u001b[1;32mc:\\Users\\lucia\\Nextcloud\\Programas\\Github\\quantum-barren-plateaus\\notebooks\\luciano\\../..\\qubap\\pennylane\\variational_algorithms.py:30\u001b[0m, in \u001b[0;36mVQE\u001b[1;34m(Hamiltonian, ansatz, params, optimizer, max_iterations, conv_tol, device, shots, callback)\u001b[0m\n\u001b[0;32m     27\u001b[0m params_k \u001b[39m=\u001b[39m [params]\n\u001b[0;32m     29\u001b[0m \u001b[39mfor\u001b[39;00m n \u001b[39min\u001b[39;00m \u001b[39mrange\u001b[39m(max_iterations):\n\u001b[1;32m---> 30\u001b[0m     params, prev_energy \u001b[39m=\u001b[39m optimizer\u001b[39m.\u001b[39;49mstep_and_cost(cost_func, params)\n\u001b[0;32m     32\u001b[0m     energy_k\u001b[39m.\u001b[39mappend(cost_func(params))\n\u001b[0;32m     33\u001b[0m     params_k\u001b[39m.\u001b[39mappend(params)\n",
      "File \u001b[1;32mc:\\Users\\lucia\\miniconda3\\envs\\pennylame_environment\\lib\\site-packages\\pennylane\\optimize\\spsa.py:193\u001b[0m, in \u001b[0;36mSPSAOptimizer.step_and_cost\u001b[1;34m(self, objective_fn, *args, **kwargs)\u001b[0m\n\u001b[0;32m    179\u001b[0m \u001b[39mdef\u001b[39;00m \u001b[39mstep_and_cost\u001b[39m(\u001b[39mself\u001b[39m, objective_fn, \u001b[39m*\u001b[39margs, \u001b[39m*\u001b[39m\u001b[39m*\u001b[39mkwargs):\n\u001b[0;32m    180\u001b[0m     \u001b[39mr\u001b[39m\u001b[39m\"\"\"Update the parameter array :math:`\\hat{\\theta}_k` with one step of the\u001b[39;00m\n\u001b[0;32m    181\u001b[0m \u001b[39m    optimizer and return the step and the corresponding objective function. The number\u001b[39;00m\n\u001b[0;32m    182\u001b[0m \u001b[39m    of steps stored by the ``k`` attribute of the optimizer is counted internally when calling ``step_and_cost`` and ``cost``.\u001b[39;00m\n\u001b[1;32m   (...)\u001b[0m\n\u001b[0;32m    191\u001b[0m \u001b[39m        objective function output prior to the step.\u001b[39;00m\n\u001b[0;32m    192\u001b[0m \u001b[39m    \"\"\"\u001b[39;00m\n\u001b[1;32m--> 193\u001b[0m     g \u001b[39m=\u001b[39m \u001b[39mself\u001b[39;49m\u001b[39m.\u001b[39;49mcompute_grad(objective_fn, args, kwargs)\n\u001b[0;32m    194\u001b[0m     new_args \u001b[39m=\u001b[39m \u001b[39mself\u001b[39m\u001b[39m.\u001b[39mapply_grad(g, args)\n\u001b[0;32m    196\u001b[0m     \u001b[39mself\u001b[39m\u001b[39m.\u001b[39mk \u001b[39m+\u001b[39m\u001b[39m=\u001b[39m \u001b[39m1\u001b[39m\n",
      "File \u001b[1;32mc:\\Users\\lucia\\miniconda3\\envs\\pennylame_environment\\lib\\site-packages\\pennylane\\optimize\\spsa.py:260\u001b[0m, in \u001b[0;36mSPSAOptimizer.compute_grad\u001b[1;34m(self, objective_fn, args, kwargs)\u001b[0m\n\u001b[0;32m    258\u001b[0m         delta\u001b[39m.\u001b[39mappend(di)\n\u001b[0;32m    259\u001b[0m yplus \u001b[39m=\u001b[39m objective_fn(\u001b[39m*\u001b[39mthetaplus, \u001b[39m*\u001b[39m\u001b[39m*\u001b[39mkwargs)\n\u001b[1;32m--> 260\u001b[0m yminus \u001b[39m=\u001b[39m objective_fn(\u001b[39m*\u001b[39mthetaminus, \u001b[39m*\u001b[39m\u001b[39m*\u001b[39mkwargs)\n\u001b[0;32m    261\u001b[0m \u001b[39mtry\u001b[39;00m:\n\u001b[0;32m    262\u001b[0m     \u001b[39mif\u001b[39;00m np\u001b[39m.\u001b[39mprod(objective_fn\u001b[39m.\u001b[39mfunc(\u001b[39m*\u001b[39margs)\u001b[39m.\u001b[39mshape(objective_fn\u001b[39m.\u001b[39mdevice)) \u001b[39m>\u001b[39m \u001b[39m1\u001b[39m:\n",
      "File \u001b[1;32mc:\\Users\\lucia\\miniconda3\\envs\\pennylame_environment\\lib\\site-packages\\pennylane\\qnode.py:847\u001b[0m, in \u001b[0;36mQNode.__call__\u001b[1;34m(self, *args, **kwargs)\u001b[0m\n\u001b[0;32m    843\u001b[0m     \u001b[39mself\u001b[39m\u001b[39m.\u001b[39m_update_original_device()\n\u001b[0;32m    845\u001b[0m     \u001b[39mreturn\u001b[39;00m res\n\u001b[1;32m--> 847\u001b[0m res \u001b[39m=\u001b[39m qml\u001b[39m.\u001b[39mexecute(\n\u001b[0;32m    848\u001b[0m     [\u001b[39mself\u001b[39m\u001b[39m.\u001b[39mtape],\n\u001b[0;32m    849\u001b[0m     device\u001b[39m=\u001b[39m\u001b[39mself\u001b[39m\u001b[39m.\u001b[39mdevice,\n\u001b[0;32m    850\u001b[0m     gradient_fn\u001b[39m=\u001b[39m\u001b[39mself\u001b[39m\u001b[39m.\u001b[39mgradient_fn,\n\u001b[0;32m    851\u001b[0m     interface\u001b[39m=\u001b[39m\u001b[39mself\u001b[39m\u001b[39m.\u001b[39minterface,\n\u001b[0;32m    852\u001b[0m     gradient_kwargs\u001b[39m=\u001b[39m\u001b[39mself\u001b[39m\u001b[39m.\u001b[39mgradient_kwargs,\n\u001b[0;32m    853\u001b[0m     override_shots\u001b[39m=\u001b[39moverride_shots,\n\u001b[0;32m    854\u001b[0m     \u001b[39m*\u001b[39m\u001b[39m*\u001b[39m\u001b[39mself\u001b[39m\u001b[39m.\u001b[39mexecute_kwargs,\n\u001b[0;32m    855\u001b[0m )\n\u001b[0;32m    857\u001b[0m \u001b[39mif\u001b[39;00m old_interface \u001b[39m==\u001b[39m \u001b[39m\"\u001b[39m\u001b[39mauto\u001b[39m\u001b[39m\"\u001b[39m:\n\u001b[0;32m    858\u001b[0m     \u001b[39mself\u001b[39m\u001b[39m.\u001b[39minterface \u001b[39m=\u001b[39m \u001b[39m\"\u001b[39m\u001b[39mauto\u001b[39m\u001b[39m\"\u001b[39m\n",
      "File \u001b[1;32mc:\\Users\\lucia\\miniconda3\\envs\\pennylame_environment\\lib\\site-packages\\pennylane\\interfaces\\execution.py:724\u001b[0m, in \u001b[0;36mexecute\u001b[1;34m(tapes, device, gradient_fn, interface, mode, gradient_kwargs, cache, cachesize, max_diff, override_shots, expand_fn, max_expansion, device_batch_transform)\u001b[0m\n\u001b[0;32m    718\u001b[0m \u001b[39mexcept\u001b[39;00m \u001b[39mImportError\u001b[39;00m \u001b[39mas\u001b[39;00m e:\n\u001b[0;32m    719\u001b[0m     \u001b[39mraise\u001b[39;00m qml\u001b[39m.\u001b[39mQuantumFunctionError(\n\u001b[0;32m    720\u001b[0m         \u001b[39mf\u001b[39m\u001b[39m\"\u001b[39m\u001b[39m{\u001b[39;00mmapped_interface\u001b[39m}\u001b[39;00m\u001b[39m not found. Please install the latest \u001b[39m\u001b[39m\"\u001b[39m\n\u001b[0;32m    721\u001b[0m         \u001b[39mf\u001b[39m\u001b[39m\"\u001b[39m\u001b[39mversion of \u001b[39m\u001b[39m{\u001b[39;00mmapped_interface\u001b[39m}\u001b[39;00m\u001b[39m to enable the \u001b[39m\u001b[39m'\u001b[39m\u001b[39m{\u001b[39;00mmapped_interface\u001b[39m}\u001b[39;00m\u001b[39m'\u001b[39m\u001b[39m interface.\u001b[39m\u001b[39m\"\u001b[39m\n\u001b[0;32m    722\u001b[0m     ) \u001b[39mfrom\u001b[39;00m \u001b[39me\u001b[39;00m\n\u001b[1;32m--> 724\u001b[0m res \u001b[39m=\u001b[39m _execute(\n\u001b[0;32m    725\u001b[0m     tapes, device, execute_fn, gradient_fn, gradient_kwargs, _n\u001b[39m=\u001b[39;49m\u001b[39m1\u001b[39;49m, max_diff\u001b[39m=\u001b[39;49mmax_diff, mode\u001b[39m=\u001b[39;49m_mode\n\u001b[0;32m    726\u001b[0m )\n\u001b[0;32m    728\u001b[0m \u001b[39mreturn\u001b[39;00m batch_fn(res)\n",
      "File \u001b[1;32mc:\\Users\\lucia\\miniconda3\\envs\\pennylame_environment\\lib\\site-packages\\pennylane\\interfaces\\autograd.py:81\u001b[0m, in \u001b[0;36mexecute\u001b[1;34m(tapes, device, execute_fn, gradient_fn, gradient_kwargs, _n, max_diff, mode)\u001b[0m\n\u001b[0;32m     75\u001b[0m \u001b[39m# pylint misidentifies autograd.builtins as a dict\u001b[39;00m\n\u001b[0;32m     76\u001b[0m \u001b[39m# pylint: disable=no-member\u001b[39;00m\n\u001b[0;32m     77\u001b[0m parameters \u001b[39m=\u001b[39m autograd\u001b[39m.\u001b[39mbuiltins\u001b[39m.\u001b[39mtuple(\n\u001b[0;32m     78\u001b[0m     [autograd\u001b[39m.\u001b[39mbuiltins\u001b[39m.\u001b[39mlist(t\u001b[39m.\u001b[39mget_parameters()) \u001b[39mfor\u001b[39;00m t \u001b[39min\u001b[39;00m tapes]\n\u001b[0;32m     79\u001b[0m )\n\u001b[1;32m---> 81\u001b[0m \u001b[39mreturn\u001b[39;00m _execute(\n\u001b[0;32m     82\u001b[0m     parameters,\n\u001b[0;32m     83\u001b[0m     tapes\u001b[39m=\u001b[39;49mtapes,\n\u001b[0;32m     84\u001b[0m     device\u001b[39m=\u001b[39;49mdevice,\n\u001b[0;32m     85\u001b[0m     execute_fn\u001b[39m=\u001b[39;49mexecute_fn,\n\u001b[0;32m     86\u001b[0m     gradient_fn\u001b[39m=\u001b[39;49mgradient_fn,\n\u001b[0;32m     87\u001b[0m     gradient_kwargs\u001b[39m=\u001b[39;49mgradient_kwargs,\n\u001b[0;32m     88\u001b[0m     _n\u001b[39m=\u001b[39;49m_n,\n\u001b[0;32m     89\u001b[0m     max_diff\u001b[39m=\u001b[39;49mmax_diff,\n\u001b[0;32m     90\u001b[0m )[\u001b[39m0\u001b[39m]\n",
      "File \u001b[1;32mc:\\Users\\lucia\\miniconda3\\envs\\pennylame_environment\\lib\\site-packages\\autograd\\tracer.py:48\u001b[0m, in \u001b[0;36mprimitive.<locals>.f_wrapped\u001b[1;34m(*args, **kwargs)\u001b[0m\n\u001b[0;32m     46\u001b[0m     \u001b[39mreturn\u001b[39;00m new_box(ans, trace, node)\n\u001b[0;32m     47\u001b[0m \u001b[39melse\u001b[39;00m:\n\u001b[1;32m---> 48\u001b[0m     \u001b[39mreturn\u001b[39;00m f_raw(\u001b[39m*\u001b[39margs, \u001b[39m*\u001b[39m\u001b[39m*\u001b[39mkwargs)\n",
      "File \u001b[1;32mc:\\Users\\lucia\\miniconda3\\envs\\pennylame_environment\\lib\\site-packages\\pennylane\\interfaces\\autograd.py:124\u001b[0m, in \u001b[0;36m_execute\u001b[1;34m(parameters, tapes, device, execute_fn, gradient_fn, gradient_kwargs, _n, max_diff)\u001b[0m\n\u001b[0;32m     93\u001b[0m \u001b[39m@autograd\u001b[39m\u001b[39m.\u001b[39mextend\u001b[39m.\u001b[39mprimitive\n\u001b[0;32m     94\u001b[0m \u001b[39mdef\u001b[39;00m \u001b[39m_execute\u001b[39m(\n\u001b[0;32m     95\u001b[0m     parameters,\n\u001b[1;32m   (...)\u001b[0m\n\u001b[0;32m    102\u001b[0m     max_diff\u001b[39m=\u001b[39m\u001b[39m2\u001b[39m,\n\u001b[0;32m    103\u001b[0m ):  \u001b[39m# pylint: disable=dangerous-default-value,unused-argument\u001b[39;00m\n\u001b[0;32m    104\u001b[0m     \u001b[39m\"\"\"Autodifferentiable wrapper around ``Device.batch_execute``.\u001b[39;00m\n\u001b[0;32m    105\u001b[0m \n\u001b[0;32m    106\u001b[0m \u001b[39m    The signature of this function is designed to work around Autograd restrictions.\u001b[39;00m\n\u001b[1;32m   (...)\u001b[0m\n\u001b[0;32m    122\u001b[0m \u001b[39m    understand the consequences!\u001b[39;00m\n\u001b[0;32m    123\u001b[0m \u001b[39m    \"\"\"\u001b[39;00m\n\u001b[1;32m--> 124\u001b[0m     \u001b[39mwith\u001b[39;00m qml\u001b[39m.\u001b[39mtape\u001b[39m.\u001b[39mUnwrap(\u001b[39m*\u001b[39mtapes):\n\u001b[0;32m    125\u001b[0m         res, jacs \u001b[39m=\u001b[39m execute_fn(tapes, \u001b[39m*\u001b[39m\u001b[39m*\u001b[39mgradient_kwargs)\n\u001b[0;32m    127\u001b[0m     \u001b[39mfor\u001b[39;00m i, r \u001b[39min\u001b[39;00m \u001b[39menumerate\u001b[39m(res):\n",
      "File \u001b[1;32mc:\\Users\\lucia\\miniconda3\\envs\\pennylame_environment\\lib\\site-packages\\pennylane\\tape\\unwrap.py:82\u001b[0m, in \u001b[0;36mUnwrap.__enter__\u001b[1;34m(self)\u001b[0m\n\u001b[0;32m     80\u001b[0m \u001b[39mwith\u001b[39;00m contextlib\u001b[39m.\u001b[39mExitStack() \u001b[39mas\u001b[39;00m stack:\n\u001b[0;32m     81\u001b[0m     \u001b[39mfor\u001b[39;00m i, tape \u001b[39min\u001b[39;00m \u001b[39menumerate\u001b[39m(\u001b[39mself\u001b[39m\u001b[39m.\u001b[39mtapes):\n\u001b[1;32m---> 82\u001b[0m         stack\u001b[39m.\u001b[39;49menter_context(\n\u001b[0;32m     83\u001b[0m             UnwrapTape(tape, params\u001b[39m=\u001b[39;49m\u001b[39mself\u001b[39;49m\u001b[39m.\u001b[39;49mparams[i] \u001b[39mif\u001b[39;49;00m \u001b[39mself\u001b[39;49m\u001b[39m.\u001b[39;49mparams \u001b[39mis\u001b[39;49;00m \u001b[39mnot\u001b[39;49;00m \u001b[39mNone\u001b[39;49;00m \u001b[39melse\u001b[39;49;00m \u001b[39mNone\u001b[39;49;00m)\n\u001b[0;32m     84\u001b[0m         )\n\u001b[0;32m     86\u001b[0m     \u001b[39mself\u001b[39m\u001b[39m.\u001b[39mstack \u001b[39m=\u001b[39m stack\u001b[39m.\u001b[39mpop_all()\n\u001b[0;32m     88\u001b[0m \u001b[39mreturn\u001b[39;00m \u001b[39mself\u001b[39m\u001b[39m.\u001b[39mtapes\n",
      "File \u001b[1;32mc:\\Users\\lucia\\miniconda3\\envs\\pennylame_environment\\lib\\contextlib.py:429\u001b[0m, in \u001b[0;36m_BaseExitStack.enter_context\u001b[1;34m(self, cm)\u001b[0m\n\u001b[0;32m    427\u001b[0m _cm_type \u001b[39m=\u001b[39m \u001b[39mtype\u001b[39m(cm)\n\u001b[0;32m    428\u001b[0m _exit \u001b[39m=\u001b[39m _cm_type\u001b[39m.\u001b[39m\u001b[39m__exit__\u001b[39m\n\u001b[1;32m--> 429\u001b[0m result \u001b[39m=\u001b[39m _cm_type\u001b[39m.\u001b[39;49m\u001b[39m__enter__\u001b[39;49m(cm)\n\u001b[0;32m    430\u001b[0m \u001b[39mself\u001b[39m\u001b[39m.\u001b[39m_push_cm_exit(cm, _exit)\n\u001b[0;32m    431\u001b[0m \u001b[39mreturn\u001b[39;00m result\n",
      "File \u001b[1;32mc:\\Users\\lucia\\miniconda3\\envs\\pennylame_environment\\lib\\site-packages\\pennylane\\tape\\unwrap.py:133\u001b[0m, in \u001b[0;36mUnwrapTape.__enter__\u001b[1;34m(self)\u001b[0m\n\u001b[0;32m    131\u001b[0m \u001b[39mdef\u001b[39;00m \u001b[39m__enter__\u001b[39m(\u001b[39mself\u001b[39m):\n\u001b[0;32m    132\u001b[0m     \u001b[39mself\u001b[39m\u001b[39m.\u001b[39m_original_params \u001b[39m=\u001b[39m \u001b[39mself\u001b[39m\u001b[39m.\u001b[39mtape\u001b[39m.\u001b[39mget_parameters(trainable_only\u001b[39m=\u001b[39m\u001b[39mFalse\u001b[39;00m)\n\u001b[1;32m--> 133\u001b[0m     \u001b[39mself\u001b[39m\u001b[39m.\u001b[39m_unwrapped_params \u001b[39m=\u001b[39m \u001b[39mself\u001b[39m\u001b[39m.\u001b[39m_unwrapped_params \u001b[39mor\u001b[39;00m qml\u001b[39m.\u001b[39;49mmath\u001b[39m.\u001b[39;49munwrap(\u001b[39mself\u001b[39;49m\u001b[39m.\u001b[39;49m_original_params)\n\u001b[0;32m    134\u001b[0m     \u001b[39mself\u001b[39m\u001b[39m.\u001b[39mtape\u001b[39m.\u001b[39mset_parameters(\u001b[39mself\u001b[39m\u001b[39m.\u001b[39m_unwrapped_params, trainable_only\u001b[39m=\u001b[39m\u001b[39mFalse\u001b[39;00m)\n\u001b[0;32m    136\u001b[0m     \u001b[39mreturn\u001b[39;00m \u001b[39mself\u001b[39m\u001b[39m.\u001b[39mtape\n",
      "File \u001b[1;32mc:\\Users\\lucia\\miniconda3\\envs\\pennylame_environment\\lib\\site-packages\\pennylane\\math\\multi_dispatch.py:764\u001b[0m, in \u001b[0;36munwrap\u001b[1;34m(values, max_depth)\u001b[0m\n\u001b[0;32m    759\u001b[0m     new_val \u001b[39m=\u001b[39m (\n\u001b[0;32m    760\u001b[0m         np\u001b[39m.\u001b[39mto_numpy(val, max_depth\u001b[39m=\u001b[39mmax_depth) \u001b[39mif\u001b[39;00m \u001b[39misinstance\u001b[39m(val, ArrayBox) \u001b[39melse\u001b[39;00m np\u001b[39m.\u001b[39mto_numpy(val)\n\u001b[0;32m    761\u001b[0m     )\n\u001b[0;32m    762\u001b[0m     \u001b[39mreturn\u001b[39;00m new_val\u001b[39m.\u001b[39mtolist() \u001b[39mif\u001b[39;00m \u001b[39misinstance\u001b[39m(new_val, ndarray) \u001b[39mand\u001b[39;00m \u001b[39mnot\u001b[39;00m new_val\u001b[39m.\u001b[39mshape \u001b[39melse\u001b[39;00m new_val\n\u001b[1;32m--> 764\u001b[0m \u001b[39mreturn\u001b[39;00m [convert(val) \u001b[39mfor\u001b[39;00m val \u001b[39min\u001b[39;00m values]\n",
      "File \u001b[1;32mc:\\Users\\lucia\\miniconda3\\envs\\pennylame_environment\\lib\\site-packages\\pennylane\\math\\multi_dispatch.py:764\u001b[0m, in \u001b[0;36m<listcomp>\u001b[1;34m(.0)\u001b[0m\n\u001b[0;32m    759\u001b[0m     new_val \u001b[39m=\u001b[39m (\n\u001b[0;32m    760\u001b[0m         np\u001b[39m.\u001b[39mto_numpy(val, max_depth\u001b[39m=\u001b[39mmax_depth) \u001b[39mif\u001b[39;00m \u001b[39misinstance\u001b[39m(val, ArrayBox) \u001b[39melse\u001b[39;00m np\u001b[39m.\u001b[39mto_numpy(val)\n\u001b[0;32m    761\u001b[0m     )\n\u001b[0;32m    762\u001b[0m     \u001b[39mreturn\u001b[39;00m new_val\u001b[39m.\u001b[39mtolist() \u001b[39mif\u001b[39;00m \u001b[39misinstance\u001b[39m(new_val, ndarray) \u001b[39mand\u001b[39;00m \u001b[39mnot\u001b[39;00m new_val\u001b[39m.\u001b[39mshape \u001b[39melse\u001b[39;00m new_val\n\u001b[1;32m--> 764\u001b[0m \u001b[39mreturn\u001b[39;00m [convert(val) \u001b[39mfor\u001b[39;00m val \u001b[39min\u001b[39;00m values]\n",
      "File \u001b[1;32mc:\\Users\\lucia\\miniconda3\\envs\\pennylame_environment\\lib\\site-packages\\pennylane\\math\\multi_dispatch.py:760\u001b[0m, in \u001b[0;36munwrap.<locals>.convert\u001b[1;34m(val)\u001b[0m\n\u001b[0;32m    757\u001b[0m \u001b[39mif\u001b[39;00m \u001b[39misinstance\u001b[39m(val, \u001b[39mlist\u001b[39m):\n\u001b[0;32m    758\u001b[0m     \u001b[39mreturn\u001b[39;00m unwrap(val)\n\u001b[0;32m    759\u001b[0m new_val \u001b[39m=\u001b[39m (\n\u001b[1;32m--> 760\u001b[0m     np\u001b[39m.\u001b[39mto_numpy(val, max_depth\u001b[39m=\u001b[39mmax_depth) \u001b[39mif\u001b[39;00m \u001b[39misinstance\u001b[39m(val, ArrayBox) \u001b[39melse\u001b[39;00m np\u001b[39m.\u001b[39;49mto_numpy(val)\n\u001b[0;32m    761\u001b[0m )\n\u001b[0;32m    762\u001b[0m \u001b[39mreturn\u001b[39;00m new_val\u001b[39m.\u001b[39mtolist() \u001b[39mif\u001b[39;00m \u001b[39misinstance\u001b[39m(new_val, ndarray) \u001b[39mand\u001b[39;00m \u001b[39mnot\u001b[39;00m new_val\u001b[39m.\u001b[39mshape \u001b[39melse\u001b[39;00m new_val\n",
      "File \u001b[1;32mc:\\Users\\lucia\\miniconda3\\envs\\pennylame_environment\\lib\\site-packages\\autoray\\autoray.py:78\u001b[0m, in \u001b[0;36mdo\u001b[1;34m(fn, like, *args, **kwargs)\u001b[0m\n\u001b[0;32m     29\u001b[0m \u001b[39mdef\u001b[39;00m \u001b[39mdo\u001b[39m(fn, \u001b[39m*\u001b[39margs, like\u001b[39m=\u001b[39m\u001b[39mNone\u001b[39;00m, \u001b[39m*\u001b[39m\u001b[39m*\u001b[39mkwargs):\n\u001b[0;32m     30\u001b[0m     \u001b[39m\"\"\"Do function named ``fn`` on ``(*args, **kwargs)``, peforming single\u001b[39;00m\n\u001b[0;32m     31\u001b[0m \u001b[39m    dispatch to retrieve ``fn`` based on whichever library defines the class of\u001b[39;00m\n\u001b[0;32m     32\u001b[0m \u001b[39m    the ``args[0]``, or the ``like`` keyword argument if specified.\u001b[39;00m\n\u001b[1;32m   (...)\u001b[0m\n\u001b[0;32m     76\u001b[0m \u001b[39m        <tf.Tensor: id=91, shape=(3, 3), dtype=float32>\u001b[39;00m\n\u001b[0;32m     77\u001b[0m \u001b[39m    \"\"\"\u001b[39;00m\n\u001b[1;32m---> 78\u001b[0m     backend \u001b[39m=\u001b[39m choose_backend(fn, \u001b[39m*\u001b[39margs, like\u001b[39m=\u001b[39mlike, \u001b[39m*\u001b[39m\u001b[39m*\u001b[39mkwargs)\n\u001b[0;32m     79\u001b[0m     \u001b[39mreturn\u001b[39;00m get_lib_fn(backend, fn)(\u001b[39m*\u001b[39margs, \u001b[39m*\u001b[39m\u001b[39m*\u001b[39mkwargs)\n",
      "File \u001b[1;32mc:\\Users\\lucia\\miniconda3\\envs\\pennylame_environment\\lib\\site-packages\\autoray\\autoray.py:327\u001b[0m, in \u001b[0;36mchoose_backend\u001b[1;34m(fn, like, *args, **kwargs)\u001b[0m\n\u001b[0;32m    309\u001b[0m     \u001b[39m\"\"\"Infer which backend should be used for a function that takes multiple\u001b[39;00m\n\u001b[0;32m    310\u001b[0m \u001b[39m    arguments. This assigns a priority to each backend, and returns the backend\u001b[39;00m\n\u001b[0;32m    311\u001b[0m \u001b[39m    with the highest priority. By default, the priority is:\u001b[39;00m\n\u001b[1;32m   (...)\u001b[0m\n\u001b[0;32m    320\u001b[0m \u001b[39m    low overhead due to caching.\u001b[39;00m\n\u001b[0;32m    321\u001b[0m \u001b[39m    \"\"\"\u001b[39;00m\n\u001b[0;32m    322\u001b[0m     \u001b[39mreturn\u001b[39;00m _infer_class_backend_multi_cached(\n\u001b[0;32m    323\u001b[0m         \u001b[39mtuple\u001b[39m(array\u001b[39m.\u001b[39m\u001b[39m__class__\u001b[39m \u001b[39mfor\u001b[39;00m array \u001b[39min\u001b[39;00m arrays)\n\u001b[0;32m    324\u001b[0m     )\n\u001b[1;32m--> 327\u001b[0m \u001b[39mdef\u001b[39;00m \u001b[39mchoose_backend\u001b[39m(fn, \u001b[39m*\u001b[39margs, like\u001b[39m=\u001b[39m\u001b[39mNone\u001b[39;00m, \u001b[39m*\u001b[39m\u001b[39m*\u001b[39mkwargs):\n\u001b[0;32m    328\u001b[0m     \u001b[39m\"\"\"Choose a backend based on function name, arguments, and the ``like``\u001b[39;00m\n\u001b[0;32m    329\u001b[0m \u001b[39m    keyword argument. The default, if ``like`` is not specified, is to infer\u001b[39;00m\n\u001b[0;32m    330\u001b[0m \u001b[39m    the backend from the function call, the default of which is simply to use\u001b[39;00m\n\u001b[1;32m   (...)\u001b[0m\n\u001b[0;32m    333\u001b[0m \u001b[39m    backend name or an arbitrary object.\u001b[39;00m\n\u001b[0;32m    334\u001b[0m \u001b[39m    \"\"\"\u001b[39;00m\n\u001b[0;32m    335\u001b[0m     \u001b[39mif\u001b[39;00m like \u001b[39mis\u001b[39;00m \u001b[39mNone\u001b[39;00m:\n",
      "\u001b[1;31mKeyboardInterrupt\u001b[0m: "
     ]
    }
   ],
   "source": [
    "params_in = np.random.randn( 6*num_wires )*np.pi\n",
    "params_out, energies_global = VQE( hamiltonian, ansatz, params_in, optimizer, shots=2**6, max_iterations=maxiter )\n",
    "params_out, energies_local  = VQE( hamiltonian_local, ansatz, params_in, optimizer, shots=2**6, max_iterations=maxiter )\n",
    "params_out, energies_global_after_local = VQE( hamiltonian_local, ansatz, params_out[-1], optimizer, shots=2**6, max_iterations=maxiter )"
   ]
  },
  {
   "cell_type": "code",
   "execution_count": null,
   "metadata": {},
   "outputs": [
    {
     "ename": "NameError",
     "evalue": "name 'energies_global' is not defined",
     "output_type": "error",
     "traceback": [
      "\u001b[1;31m---------------------------------------------------------------------------\u001b[0m",
      "\u001b[1;31mNameError\u001b[0m                                 Traceback (most recent call last)",
      "\u001b[1;32mc:\\Users\\lucia\\Nextcloud\\Programas\\Github\\quantum-barren-plateaus\\notebooks\\luciano\\test_pennylane.ipynb Celda 8\u001b[0m in \u001b[0;36m<module>\u001b[1;34m\u001b[0m\n\u001b[1;32m----> <a href='vscode-notebook-cell:/c%3A/Users/lucia/Nextcloud/Programas/Github/quantum-barren-plateaus/notebooks/luciano/test_pennylane.ipynb#X10sZmlsZQ%3D%3D?line=0'>1</a>\u001b[0m plt\u001b[39m.\u001b[39mplot( np\u001b[39m.\u001b[39mmean( energies_global, axis\u001b[39m=\u001b[39m\u001b[39m0\u001b[39m), \u001b[39m'\u001b[39m\u001b[39mo\u001b[39m\u001b[39m'\u001b[39m )\n\u001b[0;32m      <a href='vscode-notebook-cell:/c%3A/Users/lucia/Nextcloud/Programas/Github/quantum-barren-plateaus/notebooks/luciano/test_pennylane.ipynb#X10sZmlsZQ%3D%3D?line=1'>2</a>\u001b[0m plt\u001b[39m.\u001b[39mplot( np\u001b[39m.\u001b[39mmean( energies_local, axis\u001b[39m=\u001b[39m\u001b[39m0\u001b[39m), \u001b[39m'\u001b[39m\u001b[39mo\u001b[39m\u001b[39m'\u001b[39m )\n\u001b[0;32m      <a href='vscode-notebook-cell:/c%3A/Users/lucia/Nextcloud/Programas/Github/quantum-barren-plateaus/notebooks/luciano/test_pennylane.ipynb#X10sZmlsZQ%3D%3D?line=2'>3</a>\u001b[0m plt\u001b[39m.\u001b[39mplot( np\u001b[39m.\u001b[39mmean( energies_global_after_local, axis\u001b[39m=\u001b[39m\u001b[39m0\u001b[39m), \u001b[39m'\u001b[39m\u001b[39mo\u001b[39m\u001b[39m'\u001b[39m )\n",
      "\u001b[1;31mNameError\u001b[0m: name 'energies_global' is not defined"
     ]
    }
   ],
   "source": [
    "plt.plot( np.mean( energies_global, axis=0), 'o' )\n",
    "plt.plot( np.mean( energies_local, axis=0), 'o' )\n",
    "plt.plot( np.mean( energies_global_after_local, axis=0), 'o' )\n",
    "plt.legend([ 'global', 'local', 'global after local'])"
   ]
  },
  {
   "cell_type": "code",
   "execution_count": null,
   "metadata": {},
   "outputs": [],
   "source": []
  }
 ],
 "metadata": {
  "kernelspec": {
   "display_name": "Python 3.9.5 ('pennylame_environment')",
   "language": "python",
   "name": "python3"
  },
  "language_info": {
   "codemirror_mode": {
    "name": "ipython",
    "version": 3
   },
   "file_extension": ".py",
   "mimetype": "text/x-python",
   "name": "python",
   "nbconvert_exporter": "python",
   "pygments_lexer": "ipython3",
   "version": "3.9.5"
  },
  "orig_nbformat": 4,
  "vscode": {
   "interpreter": {
    "hash": "1b66e720b252c94007dba4121a84eaf5f8cd0a135acb0bca3c0a4bbe509d7c9f"
   }
  }
 },
 "nbformat": 4,
 "nbformat_minor": 2
}
