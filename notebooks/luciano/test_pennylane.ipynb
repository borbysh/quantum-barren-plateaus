{
 "cells": [
  {
   "cell_type": "code",
   "execution_count": 1,
   "metadata": {},
   "outputs": [],
   "source": [
    "import pennylane as qml"
   ]
  },
  {
   "cell_type": "code",
   "execution_count": 16,
   "metadata": {},
   "outputs": [],
   "source": [
    "num_wires = 3\n",
    "Hamiltonian = 0.5*( qml.Identity(0)+qml.PauliZ(0) )\n",
    "for i in range(1,num_wires):\n",
    "    zero = 0.5*( qml.Identity(i)+qml.PauliZ(i) )\n",
    "    Hamiltonian = Hamiltonian@zero\n",
    "Hamiltonian = - Hamiltonian +  qml.Identity(0)\n",
    "\n",
    "Hamiltonian.simplify()"
   ]
  },
  {
   "cell_type": "code",
   "execution_count": null,
   "metadata": {},
   "outputs": [],
   "source": []
  }
 ],
 "metadata": {
  "kernelspec": {
   "display_name": "Python 3.9.5 ('pennylame_environment')",
   "language": "python",
   "name": "python3"
  },
  "language_info": {
   "codemirror_mode": {
    "name": "ipython",
    "version": 3
   },
   "file_extension": ".py",
   "mimetype": "text/x-python",
   "name": "python",
   "nbconvert_exporter": "python",
   "pygments_lexer": "ipython3",
   "version": "3.9.5"
  },
  "orig_nbformat": 4,
  "vscode": {
   "interpreter": {
    "hash": "1b66e720b252c94007dba4121a84eaf5f8cd0a135acb0bca3c0a4bbe509d7c9f"
   }
  }
 },
 "nbformat": 4,
 "nbformat_minor": 2
}
