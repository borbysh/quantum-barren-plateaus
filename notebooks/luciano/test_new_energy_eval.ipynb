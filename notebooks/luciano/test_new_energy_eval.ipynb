{
 "cells": [
  {
   "cell_type": "code",
   "execution_count": 2,
   "metadata": {},
   "outputs": [],
   "source": [
    "import qiskit.opflow as of"
   ]
  },
  {
   "cell_type": "code",
   "execution_count": 3,
   "metadata": {},
   "outputs": [],
   "source": [
    "def energy_evaluation(hamiltonian, ansatz, parameters , quantum_instance, callback=None):\n",
    "    \n",
    "    ansatz_state = of.StateFn( ansatz.bind_parameters(parameters) )\n",
    "    measurement = of.StateFn( hamiltonian ).adjoint() @ ansatz_state\n",
    "    \n",
    "    pauli_circs = of.PauliExpectation().convert(measurement)\n",
    "    sampler = of.CircuitSampler(quantum_instance).convert(pauli_circs)\n",
    "    \n",
    "    evaluation = sampler.eval().real\n",
    "\n",
    "    if callback is not None:\n",
    "        callback( parameters, evaluation )\n",
    "\n",
    "    return evaluation"
   ]
  },
  {
   "cell_type": "code",
   "execution_count": 13,
   "metadata": {},
   "outputs": [],
   "source": [
    "from qiskit import QuantumCircuit\n",
    "from qiskit_aer import AerSimulator"
   ]
  },
  {
   "cell_type": "code",
   "execution_count": 25,
   "metadata": {},
   "outputs": [
    {
     "data": {
      "image/png": "[encoded data removed]",
      "text/plain": [
       "<Figure size 143.647x200.667 with 1 Axes>"
      ]
     },
     "execution_count": 25,
     "metadata": {},
     "output_type": "execute_result"
    }
   ],
   "source": [
    "ansatz = QuantumCircuit(1,1)\n",
    "ansatz.draw('mpl')"
   ]
  },
  {
   "cell_type": "code",
   "execution_count": 26,
   "metadata": {},
   "outputs": [],
   "source": [
    "hamiltonian = of.Z + of.X + of.Y "
   ]
  },
  {
   "cell_type": "code",
   "execution_count": 27,
   "metadata": {},
   "outputs": [
    {
     "ename": "TypeError",
     "evalue": "CircuitOp does not support QuantumCircuits with ClassicalRegisters.",
     "output_type": "error",
     "traceback": [
      "\u001b[1;31m---------------------------------------------------------------------------\u001b[0m",
      "\u001b[1;31mTypeError\u001b[0m                                 Traceback (most recent call last)",
      "\u001b[1;32m~\\AppData\\Local\\Temp\\ipykernel_28908\\314538355.py\u001b[0m in \u001b[0;36m<module>\u001b[1;34m\u001b[0m\n\u001b[1;32m----> 1\u001b[1;33m \u001b[0mansatz_state\u001b[0m \u001b[1;33m=\u001b[0m \u001b[0mof\u001b[0m\u001b[1;33m.\u001b[0m\u001b[0mStateFn\u001b[0m\u001b[1;33m(\u001b[0m \u001b[0mansatz\u001b[0m \u001b[1;33m)\u001b[0m\u001b[1;33m\u001b[0m\u001b[1;33m\u001b[0m\u001b[0m\n\u001b[0m\u001b[0;32m      2\u001b[0m \u001b[0mmeasurement\u001b[0m \u001b[1;33m=\u001b[0m \u001b[0mof\u001b[0m\u001b[1;33m.\u001b[0m\u001b[0mStateFn\u001b[0m\u001b[1;33m(\u001b[0m \u001b[0mhamiltonian\u001b[0m \u001b[1;33m)\u001b[0m\u001b[1;33m.\u001b[0m\u001b[0madjoint\u001b[0m\u001b[1;33m(\u001b[0m\u001b[1;33m)\u001b[0m \u001b[1;33m@\u001b[0m \u001b[0mansatz_state\u001b[0m\u001b[1;33m\u001b[0m\u001b[1;33m\u001b[0m\u001b[0m\n\u001b[0;32m      3\u001b[0m \u001b[0mpauli_circs\u001b[0m \u001b[1;33m=\u001b[0m \u001b[0mof\u001b[0m\u001b[1;33m.\u001b[0m\u001b[0mPauliExpectation\u001b[0m\u001b[1;33m(\u001b[0m\u001b[1;33m)\u001b[0m\u001b[1;33m.\u001b[0m\u001b[0mconvert\u001b[0m\u001b[1;33m(\u001b[0m\u001b[0mmeasurement\u001b[0m\u001b[1;33m)\u001b[0m\u001b[1;33m\u001b[0m\u001b[1;33m\u001b[0m\u001b[0m\n",
      "\u001b[1;32mc:\\Users\\lucia\\miniconda3\\lib\\site-packages\\qiskit\\opflow\\state_fns\\circuit_state_fn.py\u001b[0m in \u001b[0;36m__init__\u001b[1;34m(self, primitive, coeff, is_measurement, from_operator)\u001b[0m\n\u001b[0;32m     74\u001b[0m \u001b[1;33m\u001b[0m\u001b[0m\n\u001b[0;32m     75\u001b[0m         \u001b[1;32mif\u001b[0m \u001b[0mlen\u001b[0m\u001b[1;33m(\u001b[0m\u001b[0mprimitive\u001b[0m\u001b[1;33m.\u001b[0m\u001b[0mclbits\u001b[0m\u001b[1;33m)\u001b[0m \u001b[1;33m!=\u001b[0m \u001b[1;36m0\u001b[0m\u001b[1;33m:\u001b[0m\u001b[1;33m\u001b[0m\u001b[1;33m\u001b[0m\u001b[0m\n\u001b[1;32m---> 76\u001b[1;33m             \u001b[1;32mraise\u001b[0m \u001b[0mTypeError\u001b[0m\u001b[1;33m(\u001b[0m\u001b[1;34m\"CircuitOp does not support QuantumCircuits with ClassicalRegisters.\"\u001b[0m\u001b[1;33m)\u001b[0m\u001b[1;33m\u001b[0m\u001b[1;33m\u001b[0m\u001b[0m\n\u001b[0m\u001b[0;32m     77\u001b[0m \u001b[1;33m\u001b[0m\u001b[0m\n\u001b[0;32m     78\u001b[0m         \u001b[0msuper\u001b[0m\u001b[1;33m(\u001b[0m\u001b[1;33m)\u001b[0m\u001b[1;33m.\u001b[0m\u001b[0m__init__\u001b[0m\u001b[1;33m(\u001b[0m\u001b[0mprimitive\u001b[0m\u001b[1;33m,\u001b[0m \u001b[0mcoeff\u001b[0m\u001b[1;33m=\u001b[0m\u001b[0mcoeff\u001b[0m\u001b[1;33m,\u001b[0m \u001b[0mis_measurement\u001b[0m\u001b[1;33m=\u001b[0m\u001b[0mis_measurement\u001b[0m\u001b[1;33m)\u001b[0m\u001b[1;33m\u001b[0m\u001b[1;33m\u001b[0m\u001b[0m\n",
      "\u001b[1;31mTypeError\u001b[0m: CircuitOp does not support QuantumCircuits with ClassicalRegisters."
     ]
    }
   ],
   "source": [
    "ansatz_state = of.StateFn( ansatz )\n",
    "measurement = of.StateFn( hamiltonian ).adjoint() @ ansatz_state\n",
    "pauli_circs = of.PauliExpectation().convert(measurement)"
   ]
  },
  {
   "cell_type": "code",
   "execution_count": 23,
   "metadata": {},
   "outputs": [
    {
     "data": {
      "text/plain": [
       "SummedOp([ComposedOp([OperatorStateFn(PauliSumOp(SparsePauliOp(['Z'],\n",
       "              coeffs=[1.+0.j]), coeff=1.0), coeff=1.0, is_measurement=True), CircuitStateFn(<qiskit.circuit.quantumcircuit.QuantumCircuit object at 0x0000017724125D30>, coeff=1.0, is_measurement=False)], coeff=1.0, abelian=False), ComposedOp([OperatorStateFn(PauliSumOp(SparsePauliOp(['Z'],\n",
       "              coeffs=[1.+0.j]), coeff=1.0), coeff=1.0, is_measurement=True), CircuitStateFn(<qiskit.circuit.quantumcircuit.QuantumCircuit object at 0x00000177241257C0>, coeff=1.0, is_measurement=False)], coeff=1.0, abelian=False), ComposedOp([OperatorStateFn(PauliSumOp(SparsePauliOp(['Z'],\n",
       "              coeffs=[1.+0.j]), coeff=1.0), coeff=1.0, is_measurement=True), CircuitStateFn(<qiskit.circuit.quantumcircuit.QuantumCircuit object at 0x000001772415A910>, coeff=1.0, is_measurement=False)], coeff=1.0, abelian=False)], coeff=1.0, abelian=False)"
      ]
     },
     "execution_count": 23,
     "metadata": {},
     "output_type": "execute_result"
    }
   ],
   "source": [
    "pauli_circs"
   ]
  },
  {
   "cell_type": "code",
   "execution_count": null,
   "metadata": {},
   "outputs": [],
   "source": [
    "of.CircuitSampler(AerSimulator()).convert"
   ]
  },
  {
   "cell_type": "code",
   "execution_count": null,
   "metadata": {},
   "outputs": [],
   "source": [
    "of.CircuitSampler(AerSimulator()).convert"
   ]
  },
  {
   "cell_type": "code",
   "execution_count": 14,
   "metadata": {},
   "outputs": [
    {
     "data": {
      "text/plain": [
       "SummedOp([ComposedOp([OperatorStateFn(PauliSumOp(SparsePauliOp(['Z'],\n",
       "              coeffs=[1.+0.j]), coeff=1.0), coeff=1.0, is_measurement=True), DictStateFn({'0': 1.0}, coeff=1.0, is_measurement=False)], coeff=1.0, abelian=False), ComposedOp([OperatorStateFn(PauliSumOp(SparsePauliOp(['Z'],\n",
       "              coeffs=[1.+0.j]), coeff=1.0), coeff=1.0, is_measurement=True), DictStateFn({'0': 0.6945659615904022, '1': 0.7194290270763336}, coeff=1.0, is_measurement=False)], coeff=1.0, abelian=False), ComposedOp([OperatorStateFn(PauliSumOp(SparsePauliOp(['Z'],\n",
       "              coeffs=[1.+0.j]), coeff=1.0), coeff=1.0, is_measurement=True), DictStateFn({'1': 0.6882098607982887, '0': 0.7255116728902438}, coeff=1.0, is_measurement=False)], coeff=1.0, abelian=False)], coeff=1.0, abelian=False)"
      ]
     },
     "execution_count": 14,
     "metadata": {},
     "output_type": "execute_result"
    }
   ],
   "source": [
    "sampler = of.CircuitSampler(AerSimulator()).convert(pauli_circs)\n",
    "sampler"
   ]
  },
  {
   "cell_type": "code",
   "execution_count": 20,
   "metadata": {},
   "outputs": [
    {
     "data": {
      "text/plain": [
       "1.0175781250000002"
      ]
     },
     "execution_count": 20,
     "metadata": {},
     "output_type": "execute_result"
    }
   ],
   "source": [
    "sampler.eval().real"
   ]
  },
  {
   "cell_type": "code",
   "execution_count": null,
   "metadata": {},
   "outputs": [],
   "source": []
  }
 ],
 "metadata": {
  "kernelspec": {
   "display_name": "Python 3.9.16 ('base')",
   "language": "python",
   "name": "python3"
  },
  "language_info": {
   "codemirror_mode": {
    "name": "ipython",
    "version": 3
   },
   "file_extension": ".py",
   "mimetype": "text/x-python",
   "name": "python",
   "nbconvert_exporter": "python",
   "pygments_lexer": "ipython3",
   "version": "3.9.16"
  },
  "orig_nbformat": 4,
  "vscode": {
   "interpreter": {
    "hash": "cda8d9f3af62c123a40166c789fd00a9f9e68094ffd9b43f4f632544febced4e"
   }
  }
 },
 "nbformat": 4,
 "nbformat_minor": 2
}
