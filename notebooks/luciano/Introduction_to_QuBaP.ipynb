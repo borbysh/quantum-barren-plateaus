{
 "cells": [
  {
   "cell_type": "code",
   "execution_count": 1,
   "metadata": {},
   "outputs": [],
   "source": [
    "import numpy as np\n",
    "import matplotlib as plt"
   ]
  },
  {
   "cell_type": "markdown",
   "metadata": {},
   "source": [
    "# Avoiding Barren Plateaus in Variational quantum algorithms \n",
    "\n",
    "A project by Felipe Quinteros (UdeC, Chile), Mariana Navarro (ICFO, Spain), Jorge Gidi (UdeC, Chile), and Luciano Pereira (IFF-CSIC, Spain) for the Open Hackathon in the Qhack 2023."
   ]
  },
  {
   "attachments": {},
   "cell_type": "markdown",
   "metadata": {},
   "source": [
    "## Introduction\n",
    "\n",
    "Variational quantum algorithms have the potential to solve real-world practical problems with quantum computers in the near term. They are hybrid quantum-classical algorithms that optimize an objective function encoded on a hamiltonian over a parametric quantum circuit. This objective function is efficiently evaluated in a quantum computer, while a classical computer is used to drive the optimization. The variational algorithms find applications in areas such as chemistry and finance.  \n",
    "\n",
    "<img src=\"fig1_from_Noisy_intermediate_scale_quantum_algorithms.jpg\" width=500 style=\"display: block; margin: 0 auto\" >"
   ]
  },
  {
   "attachments": {},
   "cell_type": "markdown",
   "metadata": {},
   "source": [
    "In order to reach real-word applications with variational algorithms, we have to overcome a big issue: the barren plateau phenomenon. This consists of the lack of convergence due to the vanishing of the cost function gradient. Pictorially, we can think that the landscape of the objective function is too flat, as shown in the figure, so any optimization method stuck. \n",
    "\n",
    "<img src=\"fig2_from_cost_function_induced_barren_plateau.jpg\" width=600 style=\"display: block; margin: 0 auto\"  >"
   ]
  },
  {
   "attachments": {},
   "cell_type": "markdown",
   "metadata": {},
   "source": [
    "This problem can appear due to the following reasons:\n",
    "\n",
    "1.- The cost function is global, i.e., involves measurements in many qubits. For example, consider the $n$-qubits Hamiltonian $$H = I^{\\otimes n}-|0^{\\otimes n}\\rangle\\langle 0^{\\otimes n}|.$$\n",
    "This Hamiltonian require a measurement over $|0^{\\otimes n}\\rangle$, wich involve all the $n$ qubits. Thereby, the sample of shots $N_{shots}$ used to evaluate $H$ has to split into $2^n$ outputs. In the case $N_{shots}<2^n$, which always happens for large $n$, the number of shots is not enough large to perform a precise evaluation of $H$, so that its gradient vanish and the barren plateau appears. This occurs independently of the shape and the depth of the variational circuit.\n",
    "\n",
    "<img src=\"fig3_from_cost_function_induced_barren_plateau.jpg\" width=500 style=\"display: block; margin: 0 auto\"  >\n",
    "\n",
    "In [] the authors recommend avoiding this kind of Hamiltonian in the early iterations of the algorithm and instead employ a local hamiltonian $$H_L = I^{\\otimes n}-\\frac{1}{n}\\sum_{j=1}^n I_{1}\\otimes\\cdots\\otimes I_{j+1}\\otimes|0_j\\rangle\\langle 0_j|\\otimes I_{j-1}\\otimes\\cdots\\otimes I_{n}.$$ Each term of this hamiltonian involves a single-qubits measurement, so that can be accurately evaluated with a small $N_{shots}$. The authors demonstrate that this kind of Hamiltonian can be used to train variational circuits with depth $\\log(n)$.  \n",
    "\n",
    "<img src=\"fig4_from_cost_function_induced_barren_plateau.jpg\" width=500 style=\"display: block; margin: 0 auto\"  >\n",
    "\n",
    "2.- The parametric quantum circuit is too expressive, that is equivalent to saying that the parametric circuit approximates a 2-design. When this condition is fulfilled the average gradient of the cost functions is null and its variance decay exponentially. $$ \\mathbb{E}( \\nabla \\langle H\\rangle )=0, \\qquad {\\rm Var}( \\nabla \\langle H\\rangle ) \\sim \\frac{1}{2^n}.$$ Almost any variational circuit composed of layers of local gates intercalated with layers of entangling gates satisfies this condition. Reducing the expressibility of variational circuits is a way to avoid barren plateaus, as is suggested in []. \n",
    "\n",
    "<img src=\"fig5_from_mitigating_barren_plateaus_of_vqes.jpg\" width=500 style=\"display: block; margin: 0 auto\"  >\n",
    "\n",
    "3.- The initial condition for the optimization is too far from the solution, which happens extremely often when is taken randomly. Having good initial conditions increase the probability to start the optimization with a non-zero gradient so that the protocol can converge to the optimum. For example, in [] is proposed to classically pre-train the variational circuit with tensor networks to have a good initial condition for the quantum optimization. \n",
    "\n",
    "<img src=\"fig6_from_MPS_pretraining.jpg\" width=400 style=\"display: block; margin: 0 auto\"  >\n",
    "\n",
    "4.- The problem of a lifetime: the noise []. The impact of the noise can be reduced by hardware-efficient circuits and local measurements. \n",
    "\n",
    "<img src=\"fig7_from_noise_induced_BP.jpg\" width=400 style=\"display: block; margin: 0 auto\"  >"
   ]
  },
  {
   "attachments": {},
   "cell_type": "markdown",
   "metadata": {},
   "source": [
    "In this project we develop a Qiskit module that include several proposal to reduce the impact of barren plateaus in variational quantum algorithms. We also provide an early implementation on Pennylane. In this notebook we include a demo of each feature. For more details visit each individual tutorial notebook. "
   ]
  },
  {
   "cell_type": "code",
   "execution_count": null,
   "metadata": {},
   "outputs": [],
   "source": []
  }
 ],
 "metadata": {
  "kernelspec": {
   "display_name": "Python 3",
   "language": "python",
   "name": "python3"
  },
  "language_info": {
   "codemirror_mode": {
    "name": "ipython",
    "version": 3
   },
   "file_extension": ".py",
   "mimetype": "text/x-python",
   "name": "python",
   "nbconvert_exporter": "python",
   "pygments_lexer": "ipython3",
   "version": "3.11.1"
  },
  "orig_nbformat": 4,
  "vscode": {
   "interpreter": {
    "hash": "0b9832f27c5ea70394679bd537127f43581f6b20574434b483f64b86bb1b3379"
   }
  }
 },
 "nbformat": 4,
 "nbformat_minor": 2
}
