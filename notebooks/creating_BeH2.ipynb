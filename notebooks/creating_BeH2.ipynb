{
 "cells": [
  {
   "cell_type": "code",
   "execution_count": 1,
   "metadata": {},
   "outputs": [
    {
     "ename": "ModuleNotFoundError",
     "evalue": "No module named 'qubap'",
     "output_type": "error",
     "traceback": [
      "\u001b[1;31m---------------------------------------------------------------------------\u001b[0m",
      "\u001b[1;31mModuleNotFoundError\u001b[0m                       Traceback (most recent call last)",
      "Cell \u001b[1;32mIn[1], line 4\u001b[0m\n\u001b[0;32m      2\u001b[0m sys\u001b[38;5;241m.\u001b[39mpath\u001b[38;5;241m.\u001b[39mappend(\u001b[38;5;124m'\u001b[39m\u001b[38;5;124m../..\u001b[39m\u001b[38;5;124m'\u001b[39m)\n\u001b[0;32m      3\u001b[0m \u001b[38;5;28;01mimport\u001b[39;00m \u001b[38;5;21;01mnumpy\u001b[39;00m \u001b[38;5;28;01mas\u001b[39;00m \u001b[38;5;21;01mnp\u001b[39;00m\n\u001b[1;32m----> 4\u001b[0m \u001b[38;5;28;01mfrom\u001b[39;00m \u001b[38;5;21;01mqubap\u001b[39;00m\u001b[38;5;21;01m.\u001b[39;00m\u001b[38;5;21;01mqiskit\u001b[39;00m\u001b[38;5;21;01m.\u001b[39;00m\u001b[38;5;21;01mluciano\u001b[39;00m\u001b[38;5;21;01m.\u001b[39;00m\u001b[38;5;21;01mquantum_chemistry\u001b[39;00m \u001b[38;5;28;01mimport\u001b[39;00m BeH2\n",
      "\u001b[1;31mModuleNotFoundError\u001b[0m: No module named 'qubap'"
     ]
    }
   ],
   "source": [
    "import sys\n",
    "sys.path.append('../..')\n",
    "import numpy as np\n",
    "from qubap.qiskit.luciano.quantum_chemistry import BeH2"
   ]
  },
  {
   "cell_type": "code",
   "execution_count": null,
   "metadata": {},
   "outputs": [],
   "source": [
    "def hamiltonian2list( ops ):\n",
    "\n",
    "    ops_strings  = []\n",
    "    coefficients = []\n",
    "\n",
    "    for pauli in ops.to_pauli_op():\n",
    "        ops_strings.append( str(pauli.primitive) )\n",
    "        coefficients.append( pauli.coeff )\n",
    "\n",
    "    return ops_strings, coefficients"
   ]
  },
  {
   "cell_type": "code",
   "execution_count": null,
   "metadata": {},
   "outputs": [],
   "source": [
    "options = [ (False,[]),\n",
    "            (True, []),\n",
    "            (True, [6]),\n",
    "            (True, [3,6])\n",
    "            ]\n",
    "\n",
    "for freeze_core, remove_orbitals in options:\n",
    "\n",
    "    ops, init_state = BeH2(freeze_core=freeze_core, remove_orbitals=remove_orbitals, initial_state=True)\n",
    "    ops_strings, coefficients = hamiltonian2list( ops )\n",
    "    num_qubits = ops.num_qubits \n",
    "    dictionary = {}\n",
    "    dictionary['molecule']        = 'BeH2'\n",
    "    dictionary['freeze_core']     = freeze_core\n",
    "    dictionary['remove_orbitals'] = remove_orbitals\n",
    "    dictionary['num_qubits']      = ops.num_qubits\n",
    "    dictionary['hamiltonian']     = ( ops_strings, coefficients )\n",
    "    dictionary['initial_state']   = init_state.qasm()\n",
    "\n",
    "    np.save( 'molecule_BeH2_'+str(num_qubits), np.array([dictionary], dtype=object)   )"
   ]
  },
  {
   "cell_type": "code",
   "execution_count": null,
   "metadata": {},
   "outputs": [],
   "source": [
    "ops_strings, coefficients = hamiltonian2list( ops )"
   ]
  },
  {
   "cell_type": "code",
   "execution_count": null,
   "metadata": {},
   "outputs": [],
   "source": [
    "circ_str = init_state.qasm()"
   ]
  },
  {
   "cell_type": "code",
   "execution_count": null,
   "metadata": {},
   "outputs": [],
   "source": [
    "from qiskit import  QuantumCircuit"
   ]
  },
  {
   "cell_type": "code",
   "execution_count": null,
   "metadata": {},
   "outputs": [
    {
     "data": {
      "image/png": "[encoded data removed]",
      "text/plain": [
       "<Figure size 203.885x535.111 with 1 Axes>"
      ]
     },
     "execution_count": 81,
     "metadata": {},
     "output_type": "execute_result"
    }
   ],
   "source": [
    "QuantumCircuit.from_qasm_str( circ_str ).draw('mpl')"
   ]
  },
  {
   "cell_type": "code",
   "execution_count": null,
   "metadata": {},
   "outputs": [],
   "source": [
    "import qiskit.tools.jupyter\n",
    "%qiskit_version_table"
   ]
  }
 ],
 "metadata": {
  "kernelspec": {
   "display_name": "Python 3.9.5 ('old_qiskit_nature')",
   "language": "python",
   "name": "python3"
  },
  "language_info": {
   "codemirror_mode": {
    "name": "ipython",
    "version": 3
   },
   "file_extension": ".py",
   "mimetype": "text/x-python",
   "name": "python",
   "nbconvert_exporter": "python",
   "pygments_lexer": "ipython3",
   "version": "3.9.5"
  },
  "orig_nbformat": 4,
  "vscode": {
   "interpreter": {
    "hash": "c5f0323d7955d15863b0589734af63c8ca80c0e1bd1fd2a1b578f7c5ef3022cb"
   }
  }
 },
 "nbformat": 4,
 "nbformat_minor": 2
}
