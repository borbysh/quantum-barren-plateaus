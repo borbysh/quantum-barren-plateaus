{
 "cells": [
  {
   "attachments": {},
   "cell_type": "markdown",
   "metadata": {},
   "source": [
    "# __State Efficient Ansatz__\n",
    "\n",
    "## Method explication\n"
   ]
  },
  {
   "attachments": {},
   "cell_type": "markdown",
   "metadata": {},
   "source": [
    "In many cases when we try to find the optimal solution of an optimization problem the optimizator could lead to a shallow space where the gradient descent vanishes, known as Barren Plateau (BP). Causes of BP are plenty studied in the literature, the most knwon sources are:   __ansatz__, __initial parameters__, __cost function__, __deep of circuit__, __hardware noise__, between others. In this notebook we will tackle the problem induced by the choice of a \"bad\" ansatz.\n",
    "\n",
    "In general the chosen ansatz is a universal Parametrized Quantum Circuit (PQC) since it has a great expresibility, but in contrast has a poor trainability since the search space is the complete Hilbert space of the ansatz system. Xiu Liu et al. propose a new kind of ansatz call __State Efficient Ansatz__ (SEA) that removes some redundancy between the universal unitary and universal pure quantum states [1]."
   ]
  },
  {
   "attachments": {},
   "cell_type": "markdown",
   "metadata": {},
   "source": [
    "The next esqueme compares the case of a universal ansatz state and the state efficient ansatz."
   ]
  },
  {
   "attachments": {},
   "cell_type": "markdown",
   "metadata": {},
   "source": [
    "<center><img src=\"Conceptualization.jpg\" alt=\"Conceptualization\" style=\"width:500px;\"/><center>"
   ]
  },
  {
   "cell_type": "markdown",
   "metadata": {},
   "source": []
  },
  {
   "attachments": {},
   "cell_type": "markdown",
   "metadata": {},
   "source": [
    " SEA can represent pure and low bipartite entangled quantum states with fewer parameters [1]. That make SEA an efficient way to solve state-oriented tasks "
   ]
  },
  {
   "attachments": {},
   "cell_type": "markdown",
   "metadata": {},
   "source": [
    "## __Example:__ Ground State of BeH2"
   ]
  },
  {
   "attachments": {},
   "cell_type": "markdown",
   "metadata": {},
   "source": [
    "We solve the ground state of BeH2. For that we reduce the numbers of qubits from 14 to 6 omitting the electrons in the bulk and orbitals that correspond to very exited states."
   ]
  },
  {
   "attachments": {},
   "cell_type": "markdown",
   "metadata": {},
   "source": [
    "<center><img src=\"beh2.jpg\" alt=\"beh2\" style=\"width:300px;\"/><center>"
   ]
  },
  {
   "attachments": {},
   "cell_type": "markdown",
   "metadata": {},
   "source": [
    "As usual we import some standar libraries"
   ]
  },
  {
   "cell_type": "code",
   "execution_count": 1,
   "metadata": {},
   "outputs": [
    {
     "ename": "KeyboardInterrupt",
     "evalue": "",
     "output_type": "error",
     "traceback": [
      "\u001b[1;31m---------------------------------------------------------------------------\u001b[0m",
      "\u001b[1;31mKeyboardInterrupt\u001b[0m                         Traceback (most recent call last)",
      "\u001b[1;32mc:\\Users\\fequi\\Documents\\GitHub\\quantum-barren-plateaus\\notebooks\\felipe\\test_SAE.ipynb Cell 11\u001b[0m in \u001b[0;36m4\n\u001b[0;32m      <a href='vscode-notebook-cell:/c%3A/Users/fequi/Documents/GitHub/quantum-barren-plateaus/notebooks/felipe/test_SAE.ipynb#X11sZmlsZQ%3D%3D?line=0'>1</a>\u001b[0m \u001b[39mimport\u001b[39;00m \u001b[39mnumpy\u001b[39;00m \u001b[39mas\u001b[39;00m \u001b[39mnp\u001b[39;00m\n\u001b[0;32m      <a href='vscode-notebook-cell:/c%3A/Users/fequi/Documents/GitHub/quantum-barren-plateaus/notebooks/felipe/test_SAE.ipynb#X11sZmlsZQ%3D%3D?line=1'>2</a>\u001b[0m \u001b[39mimport\u001b[39;00m \u001b[39mmatplotlib\u001b[39;00m\u001b[39m.\u001b[39;00m\u001b[39mpyplot\u001b[39;00m \u001b[39mas\u001b[39;00m \u001b[39mplt\u001b[39;00m\n\u001b[1;32m----> <a href='vscode-notebook-cell:/c%3A/Users/fequi/Documents/GitHub/quantum-barren-plateaus/notebooks/felipe/test_SAE.ipynb#X11sZmlsZQ%3D%3D?line=3'>4</a>\u001b[0m \u001b[39mfrom\u001b[39;00m \u001b[39mqiskit\u001b[39;00m \u001b[39mimport\u001b[39;00m transpile, QuantumCircuit\n\u001b[0;32m      <a href='vscode-notebook-cell:/c%3A/Users/fequi/Documents/GitHub/quantum-barren-plateaus/notebooks/felipe/test_SAE.ipynb#X11sZmlsZQ%3D%3D?line=4'>5</a>\u001b[0m \u001b[39mfrom\u001b[39;00m \u001b[39mqiskit_aer\u001b[39;00m \u001b[39mimport\u001b[39;00m AerSimulator\n\u001b[0;32m      <a href='vscode-notebook-cell:/c%3A/Users/fequi/Documents/GitHub/quantum-barren-plateaus/notebooks/felipe/test_SAE.ipynb#X11sZmlsZQ%3D%3D?line=5'>6</a>\u001b[0m \u001b[39mfrom\u001b[39;00m \u001b[39mqiskit\u001b[39;00m\u001b[39m.\u001b[39;00m\u001b[39mutils\u001b[39;00m \u001b[39mimport\u001b[39;00m QuantumInstance\n",
      "File \u001b[1;32mc:\\Users\\fequi\\miniconda3\\envs\\tomog\\lib\\site-packages\\qiskit\\__init__.py:79\u001b[0m\n\u001b[0;32m     75\u001b[0m _config \u001b[39m=\u001b[39m _user_config\u001b[39m.\u001b[39mget_config()\n\u001b[0;32m     77\u001b[0m \u001b[39m# Moved to after IBMQ and Aer imports due to import issues\u001b[39;00m\n\u001b[0;32m     78\u001b[0m \u001b[39m# with other modules that check for IBMQ (tools)\u001b[39;00m\n\u001b[1;32m---> 79\u001b[0m \u001b[39mfrom\u001b[39;00m \u001b[39mqiskit\u001b[39;00m\u001b[39m.\u001b[39;00m\u001b[39mexecute_function\u001b[39;00m \u001b[39mimport\u001b[39;00m execute\n\u001b[0;32m     80\u001b[0m \u001b[39mfrom\u001b[39;00m \u001b[39mqiskit\u001b[39;00m\u001b[39m.\u001b[39;00m\u001b[39mcompiler\u001b[39;00m \u001b[39mimport\u001b[39;00m transpile, assemble, schedule, sequence\n\u001b[0;32m     82\u001b[0m \u001b[39mfrom\u001b[39;00m \u001b[39m.\u001b[39;00m\u001b[39mversion\u001b[39;00m \u001b[39mimport\u001b[39;00m __version__\n",
      "File \u001b[1;32mc:\\Users\\fequi\\miniconda3\\envs\\tomog\\lib\\site-packages\\qiskit\\execute_function.py:25\u001b[0m\n\u001b[0;32m     23\u001b[0m \u001b[39mfrom\u001b[39;00m \u001b[39mtime\u001b[39;00m \u001b[39mimport\u001b[39;00m time\n\u001b[0;32m     24\u001b[0m \u001b[39mimport\u001b[39;00m \u001b[39mwarnings\u001b[39;00m\n\u001b[1;32m---> 25\u001b[0m \u001b[39mfrom\u001b[39;00m \u001b[39mqiskit\u001b[39;00m\u001b[39m.\u001b[39;00m\u001b[39mcompiler\u001b[39;00m \u001b[39mimport\u001b[39;00m transpile, schedule\n\u001b[0;32m     26\u001b[0m \u001b[39mfrom\u001b[39;00m \u001b[39mqiskit\u001b[39;00m\u001b[39m.\u001b[39;00m\u001b[39mproviders\u001b[39;00m\u001b[39m.\u001b[39;00m\u001b[39mbackend\u001b[39;00m \u001b[39mimport\u001b[39;00m Backend\n\u001b[0;32m     27\u001b[0m \u001b[39mfrom\u001b[39;00m \u001b[39mqiskit\u001b[39;00m\u001b[39m.\u001b[39;00m\u001b[39mpulse\u001b[39;00m \u001b[39mimport\u001b[39;00m Schedule, ScheduleBlock\n",
      "File \u001b[1;32mc:\\Users\\fequi\\miniconda3\\envs\\tomog\\lib\\site-packages\\qiskit\\compiler\\__init__.py:34\u001b[0m\n\u001b[0;32m     13\u001b[0m \u001b[39m\"\"\"\u001b[39;00m\n\u001b[0;32m     14\u001b[0m \u001b[39m=============================================\u001b[39;00m\n\u001b[0;32m     15\u001b[0m \u001b[39mCompilation Routines (:mod:`qiskit.compiler`)\u001b[39;00m\n\u001b[1;32m   (...)\u001b[0m\n\u001b[0;32m     30\u001b[0m \n\u001b[0;32m     31\u001b[0m \u001b[39m\"\"\"\u001b[39;00m\n\u001b[0;32m     33\u001b[0m \u001b[39mfrom\u001b[39;00m \u001b[39m.\u001b[39;00m\u001b[39massembler\u001b[39;00m \u001b[39mimport\u001b[39;00m assemble\n\u001b[1;32m---> 34\u001b[0m \u001b[39mfrom\u001b[39;00m \u001b[39m.\u001b[39;00m\u001b[39mtranspiler\u001b[39;00m \u001b[39mimport\u001b[39;00m transpile\n\u001b[0;32m     35\u001b[0m \u001b[39mfrom\u001b[39;00m \u001b[39m.\u001b[39;00m\u001b[39mscheduler\u001b[39;00m \u001b[39mimport\u001b[39;00m schedule\n\u001b[0;32m     36\u001b[0m \u001b[39mfrom\u001b[39;00m \u001b[39m.\u001b[39;00m\u001b[39msequencer\u001b[39;00m \u001b[39mimport\u001b[39;00m sequence\n",
      "File \u001b[1;32mc:\\Users\\fequi\\miniconda3\\envs\\tomog\\lib\\site-packages\\qiskit\\compiler\\transpiler.py:29\u001b[0m\n\u001b[0;32m     27\u001b[0m \u001b[39mfrom\u001b[39;00m \u001b[39mqiskit\u001b[39;00m\u001b[39m.\u001b[39;00m\u001b[39mcircuit\u001b[39;00m\u001b[39m.\u001b[39;00m\u001b[39mquantumcircuit\u001b[39;00m \u001b[39mimport\u001b[39;00m QuantumCircuit\n\u001b[0;32m     28\u001b[0m \u001b[39mfrom\u001b[39;00m \u001b[39mqiskit\u001b[39;00m\u001b[39m.\u001b[39;00m\u001b[39mcircuit\u001b[39;00m\u001b[39m.\u001b[39;00m\u001b[39mquantumregister\u001b[39;00m \u001b[39mimport\u001b[39;00m Qubit\n\u001b[1;32m---> 29\u001b[0m \u001b[39mfrom\u001b[39;00m \u001b[39mqiskit\u001b[39;00m\u001b[39m.\u001b[39;00m\u001b[39mconverters\u001b[39;00m \u001b[39mimport\u001b[39;00m isinstanceint, isinstancelist, dag_to_circuit, circuit_to_dag\n\u001b[0;32m     30\u001b[0m \u001b[39mfrom\u001b[39;00m \u001b[39mqiskit\u001b[39;00m\u001b[39m.\u001b[39;00m\u001b[39mdagcircuit\u001b[39;00m \u001b[39mimport\u001b[39;00m DAGCircuit\n\u001b[0;32m     31\u001b[0m \u001b[39mfrom\u001b[39;00m \u001b[39mqiskit\u001b[39;00m\u001b[39m.\u001b[39;00m\u001b[39mproviders\u001b[39;00m\u001b[39m.\u001b[39;00m\u001b[39mbackend\u001b[39;00m \u001b[39mimport\u001b[39;00m Backend\n",
      "File \u001b[1;32mc:\\Users\\fequi\\miniconda3\\envs\\tomog\\lib\\site-packages\\qiskit\\converters\\__init__.py:34\u001b[0m\n\u001b[0;32m      1\u001b[0m \u001b[39m# This code is part of Qiskit.\u001b[39;00m\n\u001b[0;32m      2\u001b[0m \u001b[39m#\u001b[39;00m\n\u001b[0;32m      3\u001b[0m \u001b[39m# (C) Copyright IBM 2017, 2018.\u001b[39;00m\n\u001b[1;32m   (...)\u001b[0m\n\u001b[0;32m     10\u001b[0m \u001b[39m# copyright notice, and modified files need to carry a notice indicating\u001b[39;00m\n\u001b[0;32m     11\u001b[0m \u001b[39m# that they have been altered from the originals.\u001b[39;00m\n\u001b[0;32m     13\u001b[0m \u001b[39m\"\"\"\u001b[39;00m\n\u001b[0;32m     14\u001b[0m \u001b[39m=============================================\u001b[39;00m\n\u001b[0;32m     15\u001b[0m \u001b[39mCircuit Converters (:mod:`qiskit.converters`)\u001b[39;00m\n\u001b[1;32m   (...)\u001b[0m\n\u001b[0;32m     31\u001b[0m \u001b[39m   dagdependency_to_dag\u001b[39;00m\n\u001b[0;32m     32\u001b[0m \u001b[39m\"\"\"\u001b[39;00m\n\u001b[1;32m---> 34\u001b[0m \u001b[39mfrom\u001b[39;00m \u001b[39m.\u001b[39;00m\u001b[39mcircuit_to_dag\u001b[39;00m \u001b[39mimport\u001b[39;00m circuit_to_dag\n\u001b[0;32m     35\u001b[0m \u001b[39mfrom\u001b[39;00m \u001b[39m.\u001b[39;00m\u001b[39mdag_to_circuit\u001b[39;00m \u001b[39mimport\u001b[39;00m dag_to_circuit\n\u001b[0;32m     36\u001b[0m \u001b[39mfrom\u001b[39;00m \u001b[39m.\u001b[39;00m\u001b[39mcircuit_to_instruction\u001b[39;00m \u001b[39mimport\u001b[39;00m circuit_to_instruction\n",
      "File \u001b[1;32mc:\\Users\\fequi\\miniconda3\\envs\\tomog\\lib\\site-packages\\qiskit\\converters\\circuit_to_dag.py:16\u001b[0m\n\u001b[0;32m     13\u001b[0m \u001b[39m\"\"\"Helper function for converting a circuit to a dag\"\"\"\u001b[39;00m\n\u001b[0;32m     14\u001b[0m \u001b[39mimport\u001b[39;00m \u001b[39mcopy\u001b[39;00m\n\u001b[1;32m---> 16\u001b[0m \u001b[39mfrom\u001b[39;00m \u001b[39mqiskit\u001b[39;00m\u001b[39m.\u001b[39;00m\u001b[39mdagcircuit\u001b[39;00m\u001b[39m.\u001b[39;00m\u001b[39mdagcircuit\u001b[39;00m \u001b[39mimport\u001b[39;00m DAGCircuit\n\u001b[0;32m     19\u001b[0m \u001b[39mdef\u001b[39;00m \u001b[39mcircuit_to_dag\u001b[39m(circuit):\n\u001b[0;32m     20\u001b[0m     \u001b[39m\"\"\"Build a ``DAGCircuit`` object from a ``QuantumCircuit``.\u001b[39;00m\n\u001b[0;32m     21\u001b[0m \n\u001b[0;32m     22\u001b[0m \u001b[39m    Args:\u001b[39;00m\n\u001b[1;32m   (...)\u001b[0m\n\u001b[0;32m     45\u001b[0m \u001b[39m            dag_drawer(dag)\u001b[39;00m\n\u001b[0;32m     46\u001b[0m \u001b[39m    \"\"\"\u001b[39;00m\n",
      "File \u001b[1;32m<frozen importlib._bootstrap>:1027\u001b[0m, in \u001b[0;36m_find_and_load\u001b[1;34m(name, import_)\u001b[0m\n",
      "File \u001b[1;32m<frozen importlib._bootstrap>:1006\u001b[0m, in \u001b[0;36m_find_and_load_unlocked\u001b[1;34m(name, import_)\u001b[0m\n",
      "File \u001b[1;32m<frozen importlib._bootstrap>:688\u001b[0m, in \u001b[0;36m_load_unlocked\u001b[1;34m(spec)\u001b[0m\n",
      "File \u001b[1;32m<frozen importlib._bootstrap_external>:879\u001b[0m, in \u001b[0;36mexec_module\u001b[1;34m(self, module)\u001b[0m\n",
      "File \u001b[1;32m<frozen importlib._bootstrap_external>:975\u001b[0m, in \u001b[0;36mget_code\u001b[1;34m(self, fullname)\u001b[0m\n",
      "File \u001b[1;32m<frozen importlib._bootstrap_external>:1074\u001b[0m, in \u001b[0;36mget_data\u001b[1;34m(self, path)\u001b[0m\n",
      "\u001b[1;31mKeyboardInterrupt\u001b[0m: "
     ]
    }
   ],
   "source": [
    "import numpy as np\n",
    "import matplotlib.pyplot as plt\n",
    "\n",
    "from qiskit import transpile, QuantumCircuit\n",
    "from qiskit_aer import AerSimulator\n",
    "from qiskit.utils import QuantumInstance"
   ]
  },
  {
   "attachments": {},
   "cell_type": "markdown",
   "metadata": {},
   "source": [
    "And import a circuit maker that create an efficient SU(2) gate"
   ]
  },
  {
   "cell_type": "code",
   "execution_count": null,
   "metadata": {},
   "outputs": [],
   "source": [
    "from qiskit.circuit.library import EfficientSU2"
   ]
  },
  {
   "attachments": {},
   "cell_type": "markdown",
   "metadata": {},
   "source": [
    "Then we import the Quantum Barren Plateaus (qubap) module in the qiskit version"
   ]
  },
  {
   "cell_type": "code",
   "execution_count": null,
   "metadata": {},
   "outputs": [],
   "source": [
    "import sys\n",
    "sys.path.append('../..')\n",
    "\n",
    "from qubap.qiskit.luciano.variational_algorithms import VQE, classical_solver, energy_evaluation\n",
    "from qubap.qiskit.luciano.costfunc_barren_plateaus import paulistrings2hamiltonian \n",
    "from qubap.qiskit.felipe.state_efficient_ansatz import ansatz_constructor #SAE"
   ]
  },
  {
   "attachments": {},
   "cell_type": "markdown",
   "metadata": {},
   "source": [
    "Now we set our backend with the number of shots"
   ]
  },
  {
   "cell_type": "code",
   "execution_count": null,
   "metadata": {},
   "outputs": [],
   "source": [
    "num_shots = 2**10\n",
    "num_iters = 250\n",
    "quantum_instance = QuantumInstance( AerSimulator() , shots = num_shots )"
   ]
  },
  {
   "attachments": {},
   "cell_type": "markdown",
   "metadata": {},
   "source": [
    "After that we define the number of qubits and cast the BeH2 information from a numpy array."
   ]
  },
  {
   "cell_type": "code",
   "execution_count": null,
   "metadata": {},
   "outputs": [],
   "source": [
    "molecule = np.load( 'molecule_BeH2_6.npy', allow_pickle=True )[0]"
   ]
  },
  {
   "attachments": {},
   "cell_type": "markdown",
   "metadata": {},
   "source": [
    "The molecule file contains the next information"
   ]
  },
  {
   "cell_type": "code",
   "execution_count": null,
   "metadata": {},
   "outputs": [],
   "source": [
    "molecule.keys()"
   ]
  },
  {
   "attachments": {},
   "cell_type": "markdown",
   "metadata": {},
   "source": [
    "We are interested in the 'hamiltonian' and the 'inital_state' data. The 'initial_state' contain the Hartree Fock information. Then we transform the numpy 'hamiltonian' of the BeH2 with *paulistrings2hamiltonian* function to a quantum circuit."
   ]
  },
  {
   "cell_type": "code",
   "execution_count": null,
   "metadata": {},
   "outputs": [],
   "source": [
    "pauli_strings, coeffs = molecule['hamiltonian']\n",
    "hamiltonian = paulistrings2hamiltonian( pauli_strings, coeffs )\n",
    "num_qubits = hamiltonian.num_qubits"
   ]
  },
  {
   "cell_type": "code",
   "execution_count": null,
   "metadata": {},
   "outputs": [],
   "source": [
    "hf= QuantumCircuit.from_qasm_str(molecule['initial_state'])"
   ]
  },
  {
   "attachments": {},
   "cell_type": "markdown",
   "metadata": {},
   "source": [
    "We first find the optimal value with a classical solver"
   ]
  },
  {
   "cell_type": "code",
   "execution_count": null,
   "metadata": {},
   "outputs": [],
   "source": [
    "exact_energy = classical_solver( hamiltonian ).eigenvalue\n",
    "exact_energy"
   ]
  },
  {
   "attachments": {},
   "cell_type": "markdown",
   "metadata": {},
   "source": [
    "Then we set the deep (rep) of the general efficient SU(2) circuit with circular entanglement"
   ]
  },
  {
   "cell_type": "code",
   "execution_count": null,
   "metadata": {},
   "outputs": [],
   "source": [
    "rep       = 2\n",
    "ansatz_SU = EfficientSU2( num_qubits, ['ry','rz'], 'circular', rep ).decompose()\n",
    "ansatz_SU.compose(hf, inplace=True)\n",
    "t_ansatz_SU = transpile(ansatz_SU)\n",
    "#ansatz_SU.draw('mpl') "
   ]
  },
  {
   "attachments": {},
   "cell_type": "markdown",
   "metadata": {},
   "source": [
    "Finally we define the number of iterations of the SPSA optimizer and some random parameters to inizializate the VQE"
   ]
  },
  {
   "cell_type": "code",
   "execution_count": null,
   "metadata": {},
   "outputs": [],
   "source": [
    "pars_SU     = np.zeros( t_ansatz_SU.num_parameters ) + 0.01\n",
    "#pars_SU     = np.random.rand(t_ansatz_SU.num_parameters) * np.pi\n",
    "results_SU  = VQE( hamiltonian,  t_ansatz_SU,  pars_SU, num_iters, quantum_instance, iter_start=1000 )"
   ]
  },
  {
   "cell_type": "code",
   "execution_count": null,
   "metadata": {},
   "outputs": [],
   "source": [
    "data_SU = [ energy_evaluation( hamiltonian, t_ansatz_SU, x, AerSimulator(method='statevector') ) for x in results_SU['x'] ]"
   ]
  },
  {
   "attachments": {},
   "cell_type": "markdown",
   "metadata": {},
   "source": [
    "Now we plot the evaluation of the hamiltonian a long the iterations and the optimal value of the problem"
   ]
  },
  {
   "cell_type": "code",
   "execution_count": null,
   "metadata": {},
   "outputs": [],
   "source": [
    "plt.plot(results_SU['fx'], label='general SU')\n",
    "plt.plot(data_SU, label='data SU')\n",
    "plt.hlines(exact_energy.real, 0,200, 'r', label='optimal solution')\n",
    "plt.legend()"
   ]
  },
  {
   "attachments": {},
   "cell_type": "markdown",
   "metadata": {},
   "source": [
    "Now we construst our SEA circuit with the Hartree Fock state"
   ]
  },
  {
   "cell_type": "code",
   "execution_count": null,
   "metadata": {},
   "outputs": [],
   "source": [
    "ansatz_SEA   = ansatz_constructor( num_qubits, deep=[rep,rep,rep] )\n",
    "ansatz_SEA.compose(hf, inplace=True)\n",
    "t_ansatz_SEA = transpile(ansatz_SEA)\n",
    "ansatz_SEA.decompose().draw( 'mpl' )"
   ]
  },
  {
   "attachments": {},
   "cell_type": "markdown",
   "metadata": {},
   "source": [
    "Next we transpile it to make the circuit hardware efficient and perform the VQE with SEA"
   ]
  },
  {
   "cell_type": "code",
   "execution_count": null,
   "metadata": {},
   "outputs": [],
   "source": [
    "npars_SEA = t_ansatz_SEA.num_parameters\n",
    "pars_SEA  = np.zeros( t_ansatz_SEA.num_parameters ) + 0.01\n",
    "#pars_SEA      = np.random.rand(t_ansatz_SEA.num_parameters) * np.pi\n",
    "results_SEA = VQE( hamiltonian, t_ansatz_SEA, pars_SEA, num_iters, quantum_instance, iter_start=1000 )"
   ]
  },
  {
   "cell_type": "code",
   "execution_count": null,
   "metadata": {},
   "outputs": [],
   "source": [
    "data_SEA = [ energy_evaluation( hamiltonian, t_ansatz_SEA, x, AerSimulator(method='statevector') ) for x in results_SEA['x'] ]"
   ]
  },
  {
   "attachments": {},
   "cell_type": "markdown",
   "metadata": {},
   "source": [
    "Now we plot both the efficient SU(2) circuit and the State Efficient Ansatz, with the optimal value of the problem"
   ]
  },
  {
   "cell_type": "code",
   "execution_count": null,
   "metadata": {},
   "outputs": [],
   "source": [
    "plt.plot( results_SU['fx'], label='SU' )\n",
    "plt.plot( results_SEA['fx'], label='SEA' )\n",
    "plt.hlines( exact_energy.real, 0, num_iters, 'r', label='optimal solution' )\n",
    "plt.legend(  )"
   ]
  },
  {
   "cell_type": "code",
   "execution_count": null,
   "metadata": {},
   "outputs": [],
   "source": [
    "plt.plot( data_SU, label='SU' )\n",
    "plt.plot( data_SEA, label='SEA' )\n",
    "plt.hlines( exact_energy.real, 0, num_iters, 'r', label='optimal solution' )\n",
    "plt.legend(  )"
   ]
  },
  {
   "attachments": {},
   "cell_type": "markdown",
   "metadata": {},
   "source": [
    "We can see that using the SEA aproach the barren plateau is over pass."
   ]
  }
 ],
 "metadata": {
  "kernelspec": {
   "display_name": "tomog",
   "language": "python",
   "name": "python3"
  },
  "language_info": {
   "codemirror_mode": {
    "name": "ipython",
    "version": 3
   },
   "file_extension": ".py",
   "mimetype": "text/x-python",
   "name": "python",
   "nbconvert_exporter": "python",
   "pygments_lexer": "ipython3",
   "version": "3.10.6"
  },
  "orig_nbformat": 4,
  "vscode": {
   "interpreter": {
    "hash": "eeb5c8033e4500fbc319755753383a0d5e37ddae9f5c541424c6abea2220090b"
   }
  }
 },
 "nbformat": 4,
 "nbformat_minor": 2
}
