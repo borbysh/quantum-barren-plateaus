{
 "cells": [
  {
   "cell_type": "code",
   "execution_count": 1,
   "metadata": {},
   "outputs": [],
   "source": [
    "import sys\n",
    "sys.path.append('../..')"
   ]
  },
  {
   "cell_type": "code",
   "execution_count": 2,
   "metadata": {},
   "outputs": [],
   "source": [
    "import numpy as np\n",
    "import matplotlib.pyplot as plt\n",
    "\n",
    "\n",
    "from qiskit import transpile\n",
    "from qiskit_aer import AerSimulator\n",
    "from qiskit.circuit.library import EfficientSU2\n",
    "\n",
    "\n",
    "from qubap.qiskit.luciano.variational_algorithms import VQE\n",
    "from qubap.qiskit.luciano.costfunc_barren_plateaus import test_hamiltonian\n",
    "from qubap.qiskit.felipe.state_efficient_ansatz import ansatz_constructor #SAE"
   ]
  },
  {
   "cell_type": "code",
   "execution_count": 3,
   "metadata": {},
   "outputs": [],
   "source": [
    "num_qubits = 8"
   ]
  },
  {
   "cell_type": "code",
   "execution_count": 4,
   "metadata": {},
   "outputs": [],
   "source": [
    "# Exact\n",
    "simulator_exact = AerSimulator(shots=2**4)"
   ]
  },
  {
   "cell_type": "code",
   "execution_count": 5,
   "metadata": {},
   "outputs": [
    {
     "ename": "AttributeError",
     "evalue": "'function' object has no attribute 'num_parameters'",
     "output_type": "error",
     "traceback": [
      "\u001b[1;31m---------------------------------------------------------------------------\u001b[0m",
      "\u001b[1;31mAttributeError\u001b[0m                            Traceback (most recent call last)",
      "\u001b[1;32mc:\\Users\\fequi\\Documents\\GitHub\\quantum-barren-plateaus\\notebooks\\felipe\\test_SAE.ipynb Cell 5\u001b[0m in \u001b[0;36m1\n\u001b[1;32m----> <a href='vscode-notebook-cell:/c%3A/Users/fequi/Documents/GitHub/quantum-barren-plateaus/notebooks/felipe/test_SAE.ipynb#W3sZmlsZQ%3D%3D?line=0'>1</a>\u001b[0m ansatz   \u001b[39m=\u001b[39m ansatz_constructor( num_qubits )\n\u001b[0;32m      <a href='vscode-notebook-cell:/c%3A/Users/fequi/Documents/GitHub/quantum-barren-plateaus/notebooks/felipe/test_SAE.ipynb#W3sZmlsZQ%3D%3D?line=1'>2</a>\u001b[0m t_ansatz \u001b[39m=\u001b[39m transpile(ansatz)\n\u001b[0;32m      <a href='vscode-notebook-cell:/c%3A/Users/fequi/Documents/GitHub/quantum-barren-plateaus/notebooks/felipe/test_SAE.ipynb#W3sZmlsZQ%3D%3D?line=3'>4</a>\u001b[0m params   \u001b[39m=\u001b[39m np\u001b[39m.\u001b[39mrandom\u001b[39m.\u001b[39mrand(t_ansatz\u001b[39m.\u001b[39mnum_parameters) \u001b[39m*\u001b[39m np\u001b[39m.\u001b[39mpi\n",
      "File \u001b[1;32mc:\\Users\\fequi\\Documents\\GitHub\\quantum-barren-plateaus\\notebooks\\felipe\\../..\\qubap\\qiskit\\felipe\\state_efficient_ansatz.py:95\u001b[0m, in \u001b[0;36mansatz_constructor\u001b[1;34m(qubits, unitaries, n_qb_crz, deep, n_cnot)\u001b[0m\n\u001b[0;32m     91\u001b[0m \u001b[39mdef\u001b[39;00m \u001b[39mansatz_constructor\u001b[39m( qubits, unitaries\u001b[39m=\u001b[39m[SCL, SCL, SCL], n_qb_crz\u001b[39m=\u001b[39m[\u001b[39m2\u001b[39m,\u001b[39m2\u001b[39m,\u001b[39m2\u001b[39m], deep\u001b[39m=\u001b[39m [\u001b[39m1\u001b[39m,\u001b[39m1\u001b[39m,\u001b[39m1\u001b[39m], n_cnot\u001b[39m=\u001b[39m\u001b[39m'\u001b[39m\u001b[39mFull_connect\u001b[39m\u001b[39m'\u001b[39m ):\n\u001b[0;32m     93\u001b[0m     num_params_SCL \u001b[39m=\u001b[39m ( deep[\u001b[39m0\u001b[39m] \u001b[39m+\u001b[39m\u001b[39m1\u001b[39m )\u001b[39m*\u001b[39mqubits\n\u001b[1;32m---> 95\u001b[0m     params_1 \u001b[39m=\u001b[39m ParameterVector(\u001b[39mr\u001b[39m\u001b[39m\"\u001b[39m\u001b[39m$\u001b[39m\u001b[39m\\\u001b[39m\u001b[39mtheta$\u001b[39m\u001b[39m\"\u001b[39m, unitaries[\u001b[39m0\u001b[39;49m]\u001b[39m.\u001b[39;49mnum_parameters)\n\u001b[0;32m     96\u001b[0m     params_2 \u001b[39m=\u001b[39m ParameterVector(\u001b[39mr\u001b[39m\u001b[39m\"\u001b[39m\u001b[39m$\u001b[39m\u001b[39m\\\u001b[39m\u001b[39mphi$\u001b[39m\u001b[39m\"\u001b[39m, unitaries[\u001b[39m1\u001b[39m]\u001b[39m.\u001b[39mnum_parameters)\n\u001b[0;32m     97\u001b[0m     params_3 \u001b[39m=\u001b[39m ParameterVector(\u001b[39mr\u001b[39m\u001b[39m\"\u001b[39m\u001b[39m$\u001b[39m\u001b[39m\\\u001b[39m\u001b[39momega$\u001b[39m\u001b[39m\"\u001b[39m, unitaries[\u001b[39m2\u001b[39m]\u001b[39m.\u001b[39mnum_parameters)\n",
      "\u001b[1;31mAttributeError\u001b[0m: 'function' object has no attribute 'num_parameters'"
     ]
    }
   ],
   "source": [
    "ansatz   = ansatz_constructor( num_qubits )\n",
    "t_ansatz = transpile(ansatz)\n",
    "\n",
    "params   = np.random.rand(t_ansatz.num_parameters) * np.pi\n",
    "ansatz.decompose().draw( 'mpl' )"
   ]
  },
  {
   "cell_type": "code",
   "execution_count": null,
   "metadata": {},
   "outputs": [],
   "source": [
    "hamiltoniano = test_hamiltonian( num_qubits, [0,0,1] )"
   ]
  },
  {
   "cell_type": "code",
   "execution_count": null,
   "metadata": {},
   "outputs": [],
   "source": [
    "num_iters = 200\n",
    "results   = VQE( hamiltoniano, t_ansatz, params, num_iters, simulator_exact, returns='fx' )"
   ]
  },
  {
   "cell_type": "code",
   "execution_count": null,
   "metadata": {},
   "outputs": [],
   "source": [
    "plt.plot(results)\n",
    "plt.hlines(-1, 0,200, 'r')"
   ]
  },
  {
   "cell_type": "code",
   "execution_count": null,
   "metadata": {},
   "outputs": [],
   "source": [
    "rep       = 2\n",
    "ansatz_SU = EfficientSU2( num_qubits, ['ry','rz'], 'circular', rep ).decompose()\n",
    "ansatz_SU.draw('mpl') "
   ]
  },
  {
   "cell_type": "code",
   "execution_count": null,
   "metadata": {},
   "outputs": [],
   "source": [
    "params_SU  = np.random.rand(ansatz_SU.num_parameters) * np.pi\n",
    "\n",
    "results_SU = VQE( hamiltoniano, ansatz_SU, params_SU, num_iters, simulator_exact, returns='fx' )"
   ]
  },
  {
   "cell_type": "code",
   "execution_count": null,
   "metadata": {},
   "outputs": [],
   "source": [
    "plt.plot(results_SU)\n",
    "plt.plot(results)\n",
    "plt.hlines(-1, 0,200, 'r')"
   ]
  }
 ],
 "metadata": {
  "kernelspec": {
   "display_name": "tomog",
   "language": "python",
   "name": "python3"
  },
  "language_info": {
   "codemirror_mode": {
    "name": "ipython",
    "version": 3
   },
   "file_extension": ".py",
   "mimetype": "text/x-python",
   "name": "python",
   "nbconvert_exporter": "python",
   "pygments_lexer": "ipython3",
   "version": "3.10.6"
  },
  "orig_nbformat": 4,
  "vscode": {
   "interpreter": {
    "hash": "eeb5c8033e4500fbc319755753383a0d5e37ddae9f5c541424c6abea2220090b"
   }
  }
 },
 "nbformat": 4,
 "nbformat_minor": 2
}
